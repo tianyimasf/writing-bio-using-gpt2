{
 "cells": [
  {
   "cell_type": "code",
   "execution_count": null,
   "id": "7205b6d7-e439-4051-8209-de9b22cda6f7",
   "metadata": {},
   "outputs": [],
   "source": [
    "!pip install langdetect"
   ]
  },
  {
   "cell_type": "code",
   "execution_count": null,
   "id": "6a45aec1-fa92-4e7c-b7ec-9abc7b2c4f91",
   "metadata": {},
   "outputs": [],
   "source": [
    "import json\n",
    "from langdetect import detect\n",
    "import re\n",
    "import string\n",
    "import pandas as pd"
   ]
  },
  {
   "cell_type": "code",
   "execution_count": null,
   "id": "9d20ee0f-d03e-47d6-86b4-655e1ba5fcc6",
   "metadata": {},
   "outputs": [],
   "source": [
    "data_json = json.load(open('data.json'))\n",
    "bios = [person[\"summary\"] for person in data_json if \"summary\" in person.keys()]"
   ]
  },
  {
   "cell_type": "code",
   "execution_count": null,
   "id": "cfedd28e-80d6-4c1e-ae3c-da4248f0e048",
   "metadata": {},
   "outputs": [],
   "source": [
    "bios = [bio for bio in bios if (bio != None)]"
   ]
  },
  {
   "cell_type": "code",
   "execution_count": null,
   "id": "a66c2807-4b22-4c41-a68f-4d47d9067cdd",
   "metadata": {},
   "outputs": [],
   "source": [
    "def is_empty_str(s):\n",
    "    b = [c == \" \" for c in list(s)]\n",
    "    return all(b)"
   ]
  },
  {
   "cell_type": "code",
   "execution_count": null,
   "id": "b7887d4e-ac31-4ca8-9554-3a1dbf5b1887",
   "metadata": {},
   "outputs": [],
   "source": [
    "def clean_str(s):\n",
    "    new_str = re.sub(r'http\\S+', '', s) # remove urls\n",
    "    new_str = re.sub(r'\\S*@\\S*\\s?', '', new_str) # remove emails\n",
    "    new_str = ''.join(s for s in new_str if ord(s)>31 and ord(s)<126)\n",
    "    return new_str"
   ]
  },
  {
   "cell_type": "code",
   "execution_count": null,
   "id": "06719ed9-6a14-4441-8f65-8d5c45c4391a",
   "metadata": {},
   "outputs": [],
   "source": [
    "def is_only_punc_dig(s):\n",
    "    return all(c.isdigit() or c in string.punctuation or c == ' ' for c in s)"
   ]
  },
  {
   "cell_type": "code",
   "execution_count": null,
   "id": "2452bae0-c55e-4108-bf52-6abaa9e5cb18",
   "metadata": {},
   "outputs": [],
   "source": [
    "cleaned_bios = bios.copy()\n",
    "\n",
    "for bio in bios:\n",
    "    if is_empty_str(bio):\n",
    "        if bio in cleaned_bios:\n",
    "            cleaned_bios.remove(bio)\n",
    "    else:\n",
    "        cleaned = clean_str(bio)\n",
    "        if is_only_punc_dig(cleaned):\n",
    "            cleaned_bios.remove(bio)\n",
    "        else:\n",
    "            i = cleaned_bios.index(bio)\n",
    "            cleaned_bios[i] = cleaned"
   ]
  },
  {
   "cell_type": "code",
   "execution_count": null,
   "id": "587c9ec2-cf4d-46c4-b33a-519314907f0f",
   "metadata": {},
   "outputs": [],
   "source": [
    "bios = [bio for bio in cleaned_bios if detect(bio) == 'en']"
   ]
  },
  {
   "cell_type": "code",
   "execution_count": null,
   "id": "d3fded96-9c02-4207-aa91-dab4e43c10a1",
   "metadata": {},
   "outputs": [],
   "source": [
    "# save this file\n",
    "\n",
    "df = pd.DataFrame({'linkedin_bios': bios})\n",
    "df.to_csv(\"bios.csv\")"
   ]
  },
  {
   "cell_type": "code",
   "execution_count": null,
   "id": "bf61dc06-0b05-4524-b2c0-3d1efead8194",
   "metadata": {},
   "outputs": [],
   "source": []
  }
 ],
 "metadata": {
  "kernelspec": {
   "display_name": "Python 3 (ipykernel)",
   "language": "python",
   "name": "python3"
  },
  "language_info": {
   "codemirror_mode": {
    "name": "ipython",
    "version": 3
   },
   "file_extension": ".py",
   "mimetype": "text/x-python",
   "name": "python",
   "nbconvert_exporter": "python",
   "pygments_lexer": "ipython3",
   "version": "3.9.16"
  }
 },
 "nbformat": 4,
 "nbformat_minor": 5
}
