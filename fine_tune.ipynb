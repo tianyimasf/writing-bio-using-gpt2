{
 "cells": [
  {
   "cell_type": "code",
   "execution_count": 1,
   "id": "ecb2d0b1-992b-43ad-b57c-8779b7a83321",
   "metadata": {
    "execution": {
     "iopub.execute_input": "2024-02-04T01:17:48.765175Z",
     "iopub.status.busy": "2024-02-04T01:17:48.764688Z",
     "iopub.status.idle": "2024-02-04T01:17:52.290288Z",
     "shell.execute_reply": "2024-02-04T01:17:52.289514Z",
     "shell.execute_reply.started": "2024-02-04T01:17:48.765150Z"
    }
   },
   "outputs": [
    {
     "name": "stdout",
     "output_type": "stream",
     "text": [
      "Collecting fastai\n",
      "  Downloading fastai-2.7.14-py3-none-any.whl (232 kB)\n",
      "\u001b[2K     \u001b[90m━━━━━━━━━━━━━━━━━━━━━━━━━━━━━━━━━━━━━━\u001b[0m \u001b[32m232.2/232.2 kB\u001b[0m \u001b[31m30.6 MB/s\u001b[0m eta \u001b[36m0:00:00\u001b[0m\n",
      "\u001b[?25hRequirement already satisfied: pip in /usr/local/lib/python3.9/dist-packages (from fastai) (22.3.1)\n",
      "Requirement already satisfied: torch<2.3,>=1.10 in /usr/local/lib/python3.9/dist-packages (from fastai) (1.12.1+cu116)\n",
      "Requirement already satisfied: pyyaml in /usr/local/lib/python3.9/dist-packages (from fastai) (5.4.1)\n",
      "Collecting fastprogress>=0.2.4\n",
      "  Downloading fastprogress-1.0.3-py3-none-any.whl (12 kB)\n",
      "Requirement already satisfied: spacy<4 in /usr/local/lib/python3.9/dist-packages (from fastai) (3.4.1)\n",
      "Requirement already satisfied: scipy in /usr/local/lib/python3.9/dist-packages (from fastai) (1.9.2)\n",
      "Collecting fastdownload<2,>=0.0.5\n",
      "  Downloading fastdownload-0.0.7-py3-none-any.whl (12 kB)\n",
      "Requirement already satisfied: pillow>=9.0.0 in /usr/local/lib/python3.9/dist-packages (from fastai) (9.2.0)\n",
      "Requirement already satisfied: torchvision>=0.11 in /usr/local/lib/python3.9/dist-packages (from fastai) (0.13.1+cu116)\n",
      "Requirement already satisfied: pandas in /usr/local/lib/python3.9/dist-packages (from fastai) (1.5.0)\n",
      "Requirement already satisfied: requests in /usr/local/lib/python3.9/dist-packages (from fastai) (2.28.2)\n",
      "Requirement already satisfied: scikit-learn in /usr/local/lib/python3.9/dist-packages (from fastai) (1.1.2)\n",
      "Requirement already satisfied: matplotlib in /usr/local/lib/python3.9/dist-packages (from fastai) (3.6.1)\n",
      "Requirement already satisfied: packaging in /usr/local/lib/python3.9/dist-packages (from fastai) (23.0)\n",
      "Collecting fastcore<1.6,>=1.5.29\n",
      "  Downloading fastcore-1.5.29-py3-none-any.whl (67 kB)\n",
      "\u001b[2K     \u001b[90m━━━━━━━━━━━━━━━━━━━━━━━━━━━━━━━━━━━━━━━━\u001b[0m \u001b[32m67.6/67.6 kB\u001b[0m \u001b[31m18.7 MB/s\u001b[0m eta \u001b[36m0:00:00\u001b[0m\n",
      "\u001b[?25hRequirement already satisfied: catalogue<2.1.0,>=2.0.6 in /usr/local/lib/python3.9/dist-packages (from spacy<4->fastai) (2.0.8)\n",
      "Requirement already satisfied: pydantic!=1.8,!=1.8.1,<1.10.0,>=1.7.4 in /usr/local/lib/python3.9/dist-packages (from spacy<4->fastai) (1.9.2)\n",
      "Requirement already satisfied: setuptools in /usr/local/lib/python3.9/dist-packages (from spacy<4->fastai) (66.1.1)\n",
      "Requirement already satisfied: langcodes<4.0.0,>=3.2.0 in /usr/local/lib/python3.9/dist-packages (from spacy<4->fastai) (3.3.0)\n",
      "Requirement already satisfied: spacy-loggers<2.0.0,>=1.0.0 in /usr/local/lib/python3.9/dist-packages (from spacy<4->fastai) (1.0.4)\n",
      "Requirement already satisfied: murmurhash<1.1.0,>=0.28.0 in /usr/local/lib/python3.9/dist-packages (from spacy<4->fastai) (1.0.9)\n",
      "Requirement already satisfied: tqdm<5.0.0,>=4.38.0 in /usr/local/lib/python3.9/dist-packages (from spacy<4->fastai) (4.64.1)\n",
      "Requirement already satisfied: jinja2 in /usr/local/lib/python3.9/dist-packages (from spacy<4->fastai) (3.1.2)\n",
      "Requirement already satisfied: cymem<2.1.0,>=2.0.2 in /usr/local/lib/python3.9/dist-packages (from spacy<4->fastai) (2.0.7)\n",
      "Requirement already satisfied: preshed<3.1.0,>=3.0.2 in /usr/local/lib/python3.9/dist-packages (from spacy<4->fastai) (3.0.8)\n",
      "Requirement already satisfied: numpy>=1.15.0 in /usr/local/lib/python3.9/dist-packages (from spacy<4->fastai) (1.23.4)\n",
      "Requirement already satisfied: typer<0.5.0,>=0.3.0 in /usr/local/lib/python3.9/dist-packages (from spacy<4->fastai) (0.4.2)\n",
      "Requirement already satisfied: pathy>=0.3.5 in /usr/local/lib/python3.9/dist-packages (from spacy<4->fastai) (0.10.1)\n",
      "Requirement already satisfied: spacy-legacy<3.1.0,>=3.0.9 in /usr/local/lib/python3.9/dist-packages (from spacy<4->fastai) (3.0.12)\n",
      "Requirement already satisfied: thinc<8.2.0,>=8.1.0 in /usr/local/lib/python3.9/dist-packages (from spacy<4->fastai) (8.1.7)\n",
      "Requirement already satisfied: srsly<3.0.0,>=2.4.3 in /usr/local/lib/python3.9/dist-packages (from spacy<4->fastai) (2.4.5)\n",
      "Requirement already satisfied: wasabi<1.1.0,>=0.9.1 in /usr/local/lib/python3.9/dist-packages (from spacy<4->fastai) (0.10.1)\n",
      "Requirement already satisfied: certifi>=2017.4.17 in /usr/lib/python3/dist-packages (from requests->fastai) (2019.11.28)\n",
      "Requirement already satisfied: charset-normalizer<4,>=2 in /usr/local/lib/python3.9/dist-packages (from requests->fastai) (2.1.1)\n",
      "Requirement already satisfied: idna<4,>=2.5 in /usr/lib/python3/dist-packages (from requests->fastai) (2.8)\n",
      "Requirement already satisfied: urllib3<1.27,>=1.21.1 in /usr/local/lib/python3.9/dist-packages (from requests->fastai) (1.26.14)\n",
      "Requirement already satisfied: typing-extensions in /usr/local/lib/python3.9/dist-packages (from torch<2.3,>=1.10->fastai) (4.4.0)\n",
      "Requirement already satisfied: pyparsing>=2.2.1 in /usr/local/lib/python3.9/dist-packages (from matplotlib->fastai) (3.0.9)\n",
      "Requirement already satisfied: cycler>=0.10 in /usr/local/lib/python3.9/dist-packages (from matplotlib->fastai) (0.11.0)\n",
      "Requirement already satisfied: fonttools>=4.22.0 in /usr/local/lib/python3.9/dist-packages (from matplotlib->fastai) (4.38.0)\n",
      "Requirement already satisfied: python-dateutil>=2.7 in /usr/local/lib/python3.9/dist-packages (from matplotlib->fastai) (2.8.2)\n",
      "Requirement already satisfied: kiwisolver>=1.0.1 in /usr/local/lib/python3.9/dist-packages (from matplotlib->fastai) (1.4.4)\n",
      "Requirement already satisfied: contourpy>=1.0.1 in /usr/local/lib/python3.9/dist-packages (from matplotlib->fastai) (1.0.7)\n",
      "Requirement already satisfied: pytz>=2020.1 in /usr/local/lib/python3.9/dist-packages (from pandas->fastai) (2022.7.1)\n",
      "Requirement already satisfied: threadpoolctl>=2.0.0 in /usr/local/lib/python3.9/dist-packages (from scikit-learn->fastai) (3.1.0)\n",
      "Requirement already satisfied: joblib>=1.0.0 in /usr/local/lib/python3.9/dist-packages (from scikit-learn->fastai) (1.2.0)\n",
      "Requirement already satisfied: smart-open<7.0.0,>=5.2.1 in /usr/local/lib/python3.9/dist-packages (from pathy>=0.3.5->spacy<4->fastai) (6.3.0)\n",
      "Requirement already satisfied: six>=1.5 in /usr/lib/python3/dist-packages (from python-dateutil>=2.7->matplotlib->fastai) (1.14.0)\n",
      "Requirement already satisfied: confection<1.0.0,>=0.0.1 in /usr/local/lib/python3.9/dist-packages (from thinc<8.2.0,>=8.1.0->spacy<4->fastai) (0.0.4)\n",
      "Requirement already satisfied: blis<0.8.0,>=0.7.8 in /usr/local/lib/python3.9/dist-packages (from thinc<8.2.0,>=8.1.0->spacy<4->fastai) (0.7.9)\n",
      "Requirement already satisfied: click<9.0.0,>=7.1.1 in /usr/local/lib/python3.9/dist-packages (from typer<0.5.0,>=0.3.0->spacy<4->fastai) (8.1.3)\n",
      "Requirement already satisfied: MarkupSafe>=2.0 in /usr/local/lib/python3.9/dist-packages (from jinja2->spacy<4->fastai) (2.1.2)\n",
      "Installing collected packages: fastprogress, fastcore, fastdownload, fastai\n",
      "Successfully installed fastai-2.7.14 fastcore-1.5.29 fastdownload-0.0.7 fastprogress-1.0.3\n",
      "\u001b[33mWARNING: Running pip as the 'root' user can result in broken permissions and conflicting behaviour with the system package manager. It is recommended to use a virtual environment instead: https://pip.pypa.io/warnings/venv\u001b[0m\u001b[33m\n",
      "\u001b[0m"
     ]
    }
   ],
   "source": [
    "!pip install fastai"
   ]
  },
  {
   "cell_type": "markdown",
   "id": "f8c47220-e73b-4765-8ee4-dea54188bf3e",
   "metadata": {},
   "source": [
    "# 1. Import data"
   ]
  },
  {
   "cell_type": "code",
   "execution_count": 2,
   "id": "bb050d1a-94ba-4719-8933-170d2a1ddb13",
   "metadata": {
    "execution": {
     "iopub.execute_input": "2024-02-04T01:17:52.533580Z",
     "iopub.status.busy": "2024-02-04T01:17:52.532786Z",
     "iopub.status.idle": "2024-02-04T01:17:53.131411Z",
     "shell.execute_reply": "2024-02-04T01:17:53.130433Z",
     "shell.execute_reply.started": "2024-02-04T01:17:52.533539Z"
    }
   },
   "outputs": [],
   "source": [
    "import pandas as pd\n",
    "\n",
    "filename = 'bios.csv'\n",
    "\n",
    "texts = pd.read_csv(filename)['text']"
   ]
  },
  {
   "cell_type": "markdown",
   "id": "4adc22c3-7312-4114-a605-d0d489a8b1d6",
   "metadata": {},
   "source": [
    "# 2. Import pre-trained model"
   ]
  },
  {
   "cell_type": "code",
   "execution_count": 3,
   "id": "a6c3987e-d686-48ca-8dc6-e381b17edca9",
   "metadata": {
    "execution": {
     "iopub.execute_input": "2024-02-04T01:17:55.814989Z",
     "iopub.status.busy": "2024-02-04T01:17:55.813907Z",
     "iopub.status.idle": "2024-02-04T01:18:06.121909Z",
     "shell.execute_reply": "2024-02-04T01:18:06.121237Z",
     "shell.execute_reply.started": "2024-02-04T01:17:55.814950Z"
    }
   },
   "outputs": [
    {
     "data": {
      "application/vnd.jupyter.widget-view+json": {
       "model_id": "0204999c17ba417dbd3be6a0a11a270b",
       "version_major": 2,
       "version_minor": 0
      },
      "text/plain": [
       "Downloading vocab.json:   0%|          | 0.00/0.99M [00:00<?, ?B/s]"
      ]
     },
     "metadata": {},
     "output_type": "display_data"
    },
    {
     "data": {
      "application/vnd.jupyter.widget-view+json": {
       "model_id": "5e421046e9d0445f9f9b3052cd8dd74b",
       "version_major": 2,
       "version_minor": 0
      },
      "text/plain": [
       "Downloading merges.txt:   0%|          | 0.00/446k [00:00<?, ?B/s]"
      ]
     },
     "metadata": {},
     "output_type": "display_data"
    },
    {
     "data": {
      "application/vnd.jupyter.widget-view+json": {
       "model_id": "d34c3d0079b3425e93a70fd7ea4ea14d",
       "version_major": 2,
       "version_minor": 0
      },
      "text/plain": [
       "Downloading tokenizer.json:   0%|          | 0.00/1.29M [00:00<?, ?B/s]"
      ]
     },
     "metadata": {},
     "output_type": "display_data"
    },
    {
     "data": {
      "application/vnd.jupyter.widget-view+json": {
       "model_id": "6ce43467add541fd8f4121acd78f3203",
       "version_major": 2,
       "version_minor": 0
      },
      "text/plain": [
       "Downloading config.json:   0%|          | 0.00/665 [00:00<?, ?B/s]"
      ]
     },
     "metadata": {},
     "output_type": "display_data"
    },
    {
     "data": {
      "application/vnd.jupyter.widget-view+json": {
       "model_id": "cce6c36b205643238604dbf2db907ac4",
       "version_major": 2,
       "version_minor": 0
      },
      "text/plain": [
       "Downloading pytorch_model.bin:   0%|          | 0.00/523M [00:00<?, ?B/s]"
      ]
     },
     "metadata": {},
     "output_type": "display_data"
    }
   ],
   "source": [
    "from transformers import GPT2LMHeadModel, GPT2TokenizerFast\n",
    "import torch\n",
    "\n",
    "pretrained_weights = 'gpt2'\n",
    "tokenizer = GPT2TokenizerFast.from_pretrained(pretrained_weights)\n",
    "model = GPT2LMHeadModel.from_pretrained(pretrained_weights)"
   ]
  },
  {
   "cell_type": "markdown",
   "id": "3b66ada1-2886-4fa7-8312-7b0df47fe999",
   "metadata": {},
   "source": [
    "# 3. Load data to fast.ai Learner"
   ]
  },
  {
   "cell_type": "code",
   "execution_count": 4,
   "id": "7544d1fc-a22d-447e-857d-bda7aa700662",
   "metadata": {
    "execution": {
     "iopub.execute_input": "2024-02-04T01:18:06.125851Z",
     "iopub.status.busy": "2024-02-04T01:18:06.125313Z",
     "iopub.status.idle": "2024-02-04T01:18:07.384750Z",
     "shell.execute_reply": "2024-02-04T01:18:07.384128Z",
     "shell.execute_reply.started": "2024-02-04T01:18:06.125821Z"
    }
   },
   "outputs": [],
   "source": [
    "from fastai.text.all import *\n",
    "\n",
    "class TransformersTokenizer(Transform):\n",
    "    def __init__(self, tokenizer): self.tokenizer = tokenizer\n",
    "    def encodes(self, x): \n",
    "        device = 'cuda' if torch.cuda.is_available() else 'cpu'\n",
    "        toks = self.tokenizer.tokenize(x)\n",
    "        return tensor(self.tokenizer.convert_tokens_to_ids(toks)).to(device).long()\n",
    "    def decodes(self, x): return TitledStr(self.tokenizer.decode(x.cpu().numpy()))"
   ]
  },
  {
   "cell_type": "code",
   "execution_count": 5,
   "id": "61ce1580-8413-46aa-8ea6-6bf51584f5c2",
   "metadata": {
    "execution": {
     "iopub.execute_input": "2024-02-04T01:18:18.341889Z",
     "iopub.status.busy": "2024-02-04T01:18:18.341150Z",
     "iopub.status.idle": "2024-02-04T01:18:18.346782Z",
     "shell.execute_reply": "2024-02-04T01:18:18.346244Z",
     "shell.execute_reply.started": "2024-02-04T01:18:18.341849Z"
    }
   },
   "outputs": [],
   "source": [
    "def splitter(model):\n",
    "    \"Split a GPT2 `model` in 3 groups for differential learning rates.\"\n",
    "    \n",
    "    # First layers group : decoder blocks from 0 to 3\n",
    "    modules = []\n",
    "    for i in range(4): modules.append(model.transformer.h[i])\n",
    "    groups = [nn.Sequential(*modules)]\n",
    "\n",
    "    # Second layers group : decoder blocks from 4 to 7\n",
    "    modules = []\n",
    "    for i in range(4,8,1): modules.append(model.transformer.h[i])\n",
    "    groups = L(groups + [nn.Sequential(*modules)])\n",
    "\n",
    "    # Third layers group : decoder blocks from 8 to 11\n",
    "    modules = []\n",
    "    for i in range(8,12,1): modules.append(model.transformer.h[i])\n",
    "    groups = L(groups + [nn.Sequential(*modules)])\n",
    "    \n",
    "    # Fourth layers group : embeddings matrices wte and wpe + LayerNorm at the model output\n",
    "    groups = L(groups + [nn.Sequential(model.transformer.wte,model.transformer.wpe,model.transformer.ln_f)])\n",
    "    \n",
    "    return groups.map(params)"
   ]
  },
  {
   "cell_type": "code",
   "execution_count": 6,
   "id": "bd0b4386-2c27-46ae-afb0-41bdc5199398",
   "metadata": {
    "execution": {
     "iopub.execute_input": "2024-02-04T01:18:20.561086Z",
     "iopub.status.busy": "2024-02-04T01:18:20.560154Z",
     "iopub.status.idle": "2024-02-04T01:18:20.564210Z",
     "shell.execute_reply": "2024-02-04T01:18:20.563692Z",
     "shell.execute_reply.started": "2024-02-04T01:18:20.561051Z"
    }
   },
   "outputs": [],
   "source": [
    "# Replace predictions with only its first element to allow fine-tuning\n",
    "class DropOutput(Callback):\n",
    "    def after_pred(self): self.learn.pred = self.pred[0]"
   ]
  },
  {
   "cell_type": "code",
   "execution_count": 7,
   "id": "0a9b3257-01c4-44fa-abce-5873fc6b1459",
   "metadata": {
    "execution": {
     "iopub.execute_input": "2024-02-04T01:18:21.824709Z",
     "iopub.status.busy": "2024-02-04T01:18:21.823847Z",
     "iopub.status.idle": "2024-02-04T01:18:21.830116Z",
     "shell.execute_reply": "2024-02-04T01:18:21.829498Z",
     "shell.execute_reply.started": "2024-02-04T01:18:21.824666Z"
    }
   },
   "outputs": [],
   "source": [
    "def get_learner(train_pct=0.7):\n",
    "    \n",
    "    '''Function that load data into fast.ai and create a fast.ai learner using the data.'''\n",
    "    \n",
    "    # Transform texts into token : id mappings\n",
    "    l = len(texts)\n",
    "    train_len = int(l * train_pct)\n",
    "    splits = [range_of(train_len), list(range(train_len, l))]\n",
    "    tls = TfmdLists(texts, TransformersTokenizer(tokenizer), splits=splits, dl_type=LMDataLoader)\n",
    "    \n",
    "    # Create a dataloader object that contains attributes used in training loop\n",
    "    bs,sl = 4,256 # batch_size, sequence_length\n",
    "    dls = tls.dataloaders(bs=bs, seq_len=sl)\n",
    "    \n",
    "    # Create a learner for our use\n",
    "    learn = Learner(dls, model, loss_func=CrossEntropyLossFlat(), \n",
    "                    splitter = splitter, cbs=[DropOutput], \n",
    "                    metrics=[accuracy, Perplexity()]).to_fp16()\n",
    "    \n",
    "    return learn"
   ]
  },
  {
   "cell_type": "code",
   "execution_count": 29,
   "id": "a3956f91-7b09-430b-90cc-8813829e9793",
   "metadata": {
    "execution": {
     "iopub.execute_input": "2024-02-04T01:34:27.333156Z",
     "iopub.status.busy": "2024-02-04T01:34:27.332368Z",
     "iopub.status.idle": "2024-02-04T01:34:36.489969Z",
     "shell.execute_reply": "2024-02-04T01:34:36.489327Z",
     "shell.execute_reply.started": "2024-02-04T01:34:27.333127Z"
    }
   },
   "outputs": [],
   "source": [
    "learn = get_learner()"
   ]
  },
  {
   "cell_type": "markdown",
   "id": "f4c4df2f-8bb2-493e-9822-18d4f5a30e09",
   "metadata": {},
   "source": [
    "# 4. Defining fine-tuning steps"
   ]
  },
  {
   "cell_type": "code",
   "execution_count": 26,
   "id": "f3ac1c86-2fcc-4f43-a9d7-9caba447cb2d",
   "metadata": {
    "execution": {
     "iopub.execute_input": "2024-02-04T01:33:22.740783Z",
     "iopub.status.busy": "2024-02-04T01:33:22.740461Z",
     "iopub.status.idle": "2024-02-04T01:33:22.745625Z",
     "shell.execute_reply": "2024-02-04T01:33:22.744663Z",
     "shell.execute_reply.started": "2024-02-04T01:33:22.740757Z"
    }
   },
   "outputs": [],
   "source": [
    "def initial_fine_tune(learn):\n",
    "    \n",
    "    '''Function that applies 1 epoch to frozen pre-trained model.'''\n",
    "    \n",
    "    # Print metrics without fine-tuning\n",
    "    learn.validate()\n",
    "    \n",
    "    # Freeze pre-trained model\n",
    "    learn.freeze()\n",
    "    \n",
    "    # Fine-tune once\n",
    "    lr = learn.lr_find().valley\n",
    "    learn.fit_one_cycle(1, lr)\n",
    "    \n",
    "    learn.recorder.plot_loss()\n",
    "    \n",
    "    learn.save(\"1epoch\")\n",
    "    \n",
    "    return learn, lr"
   ]
  },
  {
   "cell_type": "code",
   "execution_count": 10,
   "id": "573bbecb-f8d0-4799-acfa-a7d11278a8bc",
   "metadata": {
    "execution": {
     "iopub.execute_input": "2024-02-04T01:18:35.308195Z",
     "iopub.status.busy": "2024-02-04T01:18:35.307999Z",
     "iopub.status.idle": "2024-02-04T01:18:35.313213Z",
     "shell.execute_reply": "2024-02-04T01:18:35.311111Z",
     "shell.execute_reply.started": "2024-02-04T01:18:35.308176Z"
    }
   },
   "outputs": [],
   "source": [
    "def fine_tune_10epoch(learn, lr):\n",
    "    \n",
    "    '''Function that applies 10 epoch to frozen pre-trained model.\n",
    "    Use lr from `initial_fine_tune()`'''\n",
    "    \n",
    "    # Freeze pre-trained model\n",
    "    learn.freeze()\n",
    "    \n",
    "    # Fine-tune for 10 epochs\n",
    "    lr *= 1/10\n",
    "    learn.fit_one_cycle(10, lr)\n",
    "    \n",
    "    # Save\n",
    "    learn.save(\"10epoch\")\n",
    "    \n",
    "    return learn"
   ]
  },
  {
   "cell_type": "code",
   "execution_count": 46,
   "id": "e0fcf0f1-256d-4936-a769-3b0688f7ec54",
   "metadata": {
    "execution": {
     "iopub.execute_input": "2024-02-04T02:48:05.983618Z",
     "iopub.status.busy": "2024-02-04T02:48:05.982958Z",
     "iopub.status.idle": "2024-02-04T02:48:05.988209Z",
     "shell.execute_reply": "2024-02-04T02:48:05.987514Z",
     "shell.execute_reply.started": "2024-02-04T02:48:05.983593Z"
    }
   },
   "outputs": [],
   "source": [
    "def fine_tune_unfreeze_2_layers(learn, lr, num_epoch=1):\n",
    "    \n",
    "    '''Function that applies 1 epoch to model that have the last 2 layers unfrozen.\n",
    "    Use lr from `initial_fine_tune()`'''\n",
    "    \n",
    "    learn.freeze_to(-2)\n",
    "    \n",
    "    lr *= 1/2\n",
    "    learn.fit_one_cycle(num_epoch, slice(lr/(2.6**4),lr))\n",
    "    \n",
    "    learn.recorder.plot_loss()\n",
    "    \n",
    "    learn.save(\"unfreeze_2_layers\")\n",
    "    \n",
    "    return learn, lr"
   ]
  },
  {
   "cell_type": "code",
   "execution_count": 56,
   "id": "bd7e26aa-e150-4c05-9093-c2132d8f5e9b",
   "metadata": {
    "execution": {
     "iopub.execute_input": "2024-02-04T03:27:43.114976Z",
     "iopub.status.busy": "2024-02-04T03:27:43.114249Z",
     "iopub.status.idle": "2024-02-04T03:27:43.118969Z",
     "shell.execute_reply": "2024-02-04T03:27:43.118247Z",
     "shell.execute_reply.started": "2024-02-04T03:27:43.114948Z"
    }
   },
   "outputs": [],
   "source": [
    "def fine_tune_unfreeze_3_layers(learn, lr, num_epoch=1):\n",
    "    \n",
    "    '''Function that applies 1 epoch to model that have the last 3 layers unfrozen.\n",
    "    Use lr from `fine_tune_unfreeze_2_layers()`'''\n",
    "    \n",
    "    learn.freeze_to(-3)\n",
    "    \n",
    "    lr *= 1/5\n",
    "    learn.fit_one_cycle(num_epoch, slice(lr/(2.6**4),lr))\n",
    "    \n",
    "    learn.recorder.plot_loss()\n",
    "    \n",
    "    learn.save(\"unfreeze_3_layers\")\n",
    "    \n",
    "    return learn"
   ]
  },
  {
   "cell_type": "code",
   "execution_count": 43,
   "id": "e255addb-46f5-45f1-a6e4-ce59a27d3443",
   "metadata": {
    "execution": {
     "iopub.execute_input": "2024-02-04T02:47:38.618207Z",
     "iopub.status.busy": "2024-02-04T02:47:38.617553Z",
     "iopub.status.idle": "2024-02-04T02:47:38.622447Z",
     "shell.execute_reply": "2024-02-04T02:47:38.621587Z",
     "shell.execute_reply.started": "2024-02-04T02:47:38.618181Z"
    }
   },
   "outputs": [],
   "source": [
    "def fine_tune_unfreeze(learn, lr, num_epoch=2):\n",
    "    \n",
    "    '''Function that applies 1 epoch to model that have all layers unfrozen.\n",
    "    Use lr from `fine_tune_unfreeze_2_layers()`'''\n",
    "    \n",
    "    learn.unfreeze()\n",
    "    \n",
    "    learn.fit_one_cycle(num_epoch, slice(lr/(2.6**4),lr))\n",
    "    \n",
    "    learn.recorder.plot_loss()\n",
    "    \n",
    "    learn.save(\"fine-tuned\")\n",
    "    \n",
    "    return learn"
   ]
  },
  {
   "cell_type": "code",
   "execution_count": 14,
   "id": "f55fd994-8dd6-41e0-ac73-cbe8260dd020",
   "metadata": {
    "execution": {
     "iopub.execute_input": "2024-02-04T01:18:47.749106Z",
     "iopub.status.busy": "2024-02-04T01:18:47.748434Z",
     "iopub.status.idle": "2024-02-04T01:18:47.752230Z",
     "shell.execute_reply": "2024-02-04T01:18:47.751715Z",
     "shell.execute_reply.started": "2024-02-04T01:18:47.749081Z"
    }
   },
   "outputs": [],
   "source": [
    "prompts = [\"I've founded\", \"Dedicated Film professional\", \"Machine Learning Engineer\", \n",
    "           \"I'm a business professional\", \"I'm a content creator\", \"Passionate Animator\"]\n",
    "max_len = 75"
   ]
  },
  {
   "cell_type": "code",
   "execution_count": 15,
   "id": "98544925-f4cc-457e-8d72-92122c60ee92",
   "metadata": {
    "execution": {
     "iopub.execute_input": "2024-02-04T01:18:49.083904Z",
     "iopub.status.busy": "2024-02-04T01:18:49.083066Z",
     "iopub.status.idle": "2024-02-04T01:18:49.087368Z",
     "shell.execute_reply": "2024-02-04T01:18:49.086849Z",
     "shell.execute_reply.started": "2024-02-04T01:18:49.083904Z"
    }
   },
   "outputs": [],
   "source": [
    "def evaluate_with_prompts(learn, prompts, max_len=50):\n",
    "    for prompt in prompts:\n",
    "        prompt_ids = tokenizer.encode(prompt)\n",
    "        inp = tensor(prompt_ids)[None].cuda()\n",
    "        preds = learn.model.generate(inp, max_length=max_len, num_beams=10, temperature=1.5)\n",
    "        generated_bio = tokenizer.decode(preds[0].cpu().numpy())\n",
    "        print(generated_bio)"
   ]
  },
  {
   "cell_type": "markdown",
   "id": "7573b9b0-090d-4c1f-91bb-d235c0d087c4",
   "metadata": {},
   "source": [
    "# 5. Trying out fine-tuning steps"
   ]
  },
  {
   "cell_type": "code",
   "execution_count": 30,
   "id": "06057b42-9c81-4164-9f5e-6389c18071bb",
   "metadata": {
    "execution": {
     "iopub.execute_input": "2024-02-04T01:34:41.924455Z",
     "iopub.status.busy": "2024-02-04T01:34:41.923602Z",
     "iopub.status.idle": "2024-02-04T01:37:01.389257Z",
     "shell.execute_reply": "2024-02-04T01:37:01.388531Z",
     "shell.execute_reply.started": "2024-02-04T01:34:41.924426Z"
    }
   },
   "outputs": [
    {
     "data": {
      "text/html": [
       "\n",
       "<style>\n",
       "    /* Turns off some styling */\n",
       "    progress {\n",
       "        /* gets rid of default border in Firefox and Opera. */\n",
       "        border: none;\n",
       "        /* Needs to be in here for Safari polyfill so background images work as expected. */\n",
       "        background-size: auto;\n",
       "    }\n",
       "    progress:not([value]), progress:not([value])::-webkit-progress-bar {\n",
       "        background: repeating-linear-gradient(45deg, #7e7e7e, #7e7e7e 10px, #5c5c5c 10px, #5c5c5c 20px);\n",
       "    }\n",
       "    .progress-bar-interrupted, .progress-bar-interrupted::-webkit-progress-bar {\n",
       "        background: #F44336;\n",
       "    }\n",
       "</style>\n"
      ],
      "text/plain": [
       "<IPython.core.display.HTML object>"
      ]
     },
     "metadata": {},
     "output_type": "display_data"
    },
    {
     "data": {
      "text/html": [],
      "text/plain": [
       "<IPython.core.display.HTML object>"
      ]
     },
     "metadata": {},
     "output_type": "display_data"
    },
    {
     "data": {
      "text/html": [
       "\n",
       "<style>\n",
       "    /* Turns off some styling */\n",
       "    progress {\n",
       "        /* gets rid of default border in Firefox and Opera. */\n",
       "        border: none;\n",
       "        /* Needs to be in here for Safari polyfill so background images work as expected. */\n",
       "        background-size: auto;\n",
       "    }\n",
       "    progress:not([value]), progress:not([value])::-webkit-progress-bar {\n",
       "        background: repeating-linear-gradient(45deg, #7e7e7e, #7e7e7e 10px, #5c5c5c 10px, #5c5c5c 20px);\n",
       "    }\n",
       "    .progress-bar-interrupted, .progress-bar-interrupted::-webkit-progress-bar {\n",
       "        background: #F44336;\n",
       "    }\n",
       "</style>\n"
      ],
      "text/plain": [
       "<IPython.core.display.HTML object>"
      ]
     },
     "metadata": {},
     "output_type": "display_data"
    },
    {
     "data": {
      "text/html": [],
      "text/plain": [
       "<IPython.core.display.HTML object>"
      ]
     },
     "metadata": {},
     "output_type": "display_data"
    },
    {
     "data": {
      "text/html": [
       "\n",
       "<style>\n",
       "    /* Turns off some styling */\n",
       "    progress {\n",
       "        /* gets rid of default border in Firefox and Opera. */\n",
       "        border: none;\n",
       "        /* Needs to be in here for Safari polyfill so background images work as expected. */\n",
       "        background-size: auto;\n",
       "    }\n",
       "    progress:not([value]), progress:not([value])::-webkit-progress-bar {\n",
       "        background: repeating-linear-gradient(45deg, #7e7e7e, #7e7e7e 10px, #5c5c5c 10px, #5c5c5c 20px);\n",
       "    }\n",
       "    .progress-bar-interrupted, .progress-bar-interrupted::-webkit-progress-bar {\n",
       "        background: #F44336;\n",
       "    }\n",
       "</style>\n"
      ],
      "text/plain": [
       "<IPython.core.display.HTML object>"
      ]
     },
     "metadata": {},
     "output_type": "display_data"
    },
    {
     "data": {
      "text/html": [
       "<table border=\"1\" class=\"dataframe\">\n",
       "  <thead>\n",
       "    <tr style=\"text-align: left;\">\n",
       "      <th>epoch</th>\n",
       "      <th>train_loss</th>\n",
       "      <th>valid_loss</th>\n",
       "      <th>accuracy</th>\n",
       "      <th>perplexity</th>\n",
       "      <th>time</th>\n",
       "    </tr>\n",
       "  </thead>\n",
       "  <tbody>\n",
       "    <tr>\n",
       "      <td>0</td>\n",
       "      <td>3.634264</td>\n",
       "      <td>3.868498</td>\n",
       "      <td>0.321437</td>\n",
       "      <td>47.870411</td>\n",
       "      <td>01:50</td>\n",
       "    </tr>\n",
       "  </tbody>\n",
       "</table>"
      ],
      "text/plain": [
       "<IPython.core.display.HTML object>"
      ]
     },
     "metadata": {},
     "output_type": "display_data"
    },
    {
     "data": {
      "image/png": "[encoded data removed]",
      "text/plain": [
       "<Figure size 640x480 with 1 Axes>"
      ]
     },
     "metadata": {},
     "output_type": "display_data"
    }
   ],
   "source": [
    "learn, lr = initial_fine_tune(learn)"
   ]
  },
  {
   "cell_type": "code",
   "execution_count": 32,
   "id": "ada4d003-f515-4a86-a1ee-df960d298404",
   "metadata": {
    "execution": {
     "iopub.execute_input": "2024-02-04T01:38:09.742272Z",
     "iopub.status.busy": "2024-02-04T01:38:09.741963Z",
     "iopub.status.idle": "2024-02-04T01:56:41.558429Z",
     "shell.execute_reply": "2024-02-04T01:56:41.557773Z",
     "shell.execute_reply.started": "2024-02-04T01:38:09.742248Z"
    }
   },
   "outputs": [
    {
     "data": {
      "text/html": [
       "\n",
       "<style>\n",
       "    /* Turns off some styling */\n",
       "    progress {\n",
       "        /* gets rid of default border in Firefox and Opera. */\n",
       "        border: none;\n",
       "        /* Needs to be in here for Safari polyfill so background images work as expected. */\n",
       "        background-size: auto;\n",
       "    }\n",
       "    progress:not([value]), progress:not([value])::-webkit-progress-bar {\n",
       "        background: repeating-linear-gradient(45deg, #7e7e7e, #7e7e7e 10px, #5c5c5c 10px, #5c5c5c 20px);\n",
       "    }\n",
       "    .progress-bar-interrupted, .progress-bar-interrupted::-webkit-progress-bar {\n",
       "        background: #F44336;\n",
       "    }\n",
       "</style>\n"
      ],
      "text/plain": [
       "<IPython.core.display.HTML object>"
      ]
     },
     "metadata": {},
     "output_type": "display_data"
    },
    {
     "data": {
      "text/html": [
       "<table border=\"1\" class=\"dataframe\">\n",
       "  <thead>\n",
       "    <tr style=\"text-align: left;\">\n",
       "      <th>epoch</th>\n",
       "      <th>train_loss</th>\n",
       "      <th>valid_loss</th>\n",
       "      <th>accuracy</th>\n",
       "      <th>perplexity</th>\n",
       "      <th>time</th>\n",
       "    </tr>\n",
       "  </thead>\n",
       "  <tbody>\n",
       "    <tr>\n",
       "      <td>0</td>\n",
       "      <td>3.594381</td>\n",
       "      <td>3.872147</td>\n",
       "      <td>0.320925</td>\n",
       "      <td>48.045410</td>\n",
       "      <td>01:49</td>\n",
       "    </tr>\n",
       "    <tr>\n",
       "      <td>1</td>\n",
       "      <td>3.582443</td>\n",
       "      <td>3.867119</td>\n",
       "      <td>0.321517</td>\n",
       "      <td>47.804478</td>\n",
       "      <td>01:50</td>\n",
       "    </tr>\n",
       "    <tr>\n",
       "      <td>2</td>\n",
       "      <td>3.532298</td>\n",
       "      <td>3.865926</td>\n",
       "      <td>0.321815</td>\n",
       "      <td>47.747478</td>\n",
       "      <td>01:49</td>\n",
       "    </tr>\n",
       "    <tr>\n",
       "      <td>3</td>\n",
       "      <td>3.550032</td>\n",
       "      <td>3.864391</td>\n",
       "      <td>0.321899</td>\n",
       "      <td>47.674236</td>\n",
       "      <td>01:50</td>\n",
       "    </tr>\n",
       "    <tr>\n",
       "      <td>4</td>\n",
       "      <td>3.551959</td>\n",
       "      <td>3.865845</td>\n",
       "      <td>0.321988</td>\n",
       "      <td>47.743622</td>\n",
       "      <td>01:50</td>\n",
       "    </tr>\n",
       "    <tr>\n",
       "      <td>5</td>\n",
       "      <td>3.522732</td>\n",
       "      <td>3.865924</td>\n",
       "      <td>0.322134</td>\n",
       "      <td>47.747375</td>\n",
       "      <td>01:50</td>\n",
       "    </tr>\n",
       "    <tr>\n",
       "      <td>6</td>\n",
       "      <td>3.505229</td>\n",
       "      <td>3.866523</td>\n",
       "      <td>0.322061</td>\n",
       "      <td>47.775970</td>\n",
       "      <td>01:51</td>\n",
       "    </tr>\n",
       "    <tr>\n",
       "      <td>7</td>\n",
       "      <td>3.550621</td>\n",
       "      <td>3.866609</td>\n",
       "      <td>0.322064</td>\n",
       "      <td>47.780071</td>\n",
       "      <td>01:53</td>\n",
       "    </tr>\n",
       "    <tr>\n",
       "      <td>8</td>\n",
       "      <td>3.481249</td>\n",
       "      <td>3.867283</td>\n",
       "      <td>0.321986</td>\n",
       "      <td>47.812286</td>\n",
       "      <td>01:52</td>\n",
       "    </tr>\n",
       "    <tr>\n",
       "      <td>9</td>\n",
       "      <td>3.491916</td>\n",
       "      <td>3.867005</td>\n",
       "      <td>0.322048</td>\n",
       "      <td>47.799007</td>\n",
       "      <td>01:50</td>\n",
       "    </tr>\n",
       "  </tbody>\n",
       "</table>"
      ],
      "text/plain": [
       "<IPython.core.display.HTML object>"
      ]
     },
     "metadata": {},
     "output_type": "display_data"
    }
   ],
   "source": [
    "learn = fine_tune_10epoch(learn, lr)"
   ]
  },
  {
   "cell_type": "code",
   "execution_count": 34,
   "id": "dd7e6749-d5bf-4372-8b19-917f548867e9",
   "metadata": {
    "execution": {
     "iopub.execute_input": "2024-02-04T01:57:12.616878Z",
     "iopub.status.busy": "2024-02-04T01:57:12.616069Z",
     "iopub.status.idle": "2024-02-04T01:57:14.705388Z",
     "shell.execute_reply": "2024-02-04T01:57:14.704876Z",
     "shell.execute_reply.started": "2024-02-04T01:57:12.616849Z"
    }
   },
   "outputs": [
    {
     "data": {
      "text/plain": [
       "Path('models/10epoch_lr0.00033.pth')"
      ]
     },
     "execution_count": 34,
     "metadata": {},
     "output_type": "execute_result"
    }
   ],
   "source": [
    "learn.save(f'10epoch_lr{round(lr, 5)}')"
   ]
  },
  {
   "cell_type": "code",
   "execution_count": 33,
   "id": "91137886-a228-429a-8fab-45e0a7de4437",
   "metadata": {
    "execution": {
     "iopub.execute_input": "2024-02-04T01:57:06.840999Z",
     "iopub.status.busy": "2024-02-04T01:57:06.840621Z",
     "iopub.status.idle": "2024-02-04T01:57:06.845776Z",
     "shell.execute_reply": "2024-02-04T01:57:06.845079Z",
     "shell.execute_reply.started": "2024-02-04T01:57:06.840973Z"
    }
   },
   "outputs": [
    {
     "data": {
      "text/plain": [
       "0.0003311311302240938"
      ]
     },
     "execution_count": 33,
     "metadata": {},
     "output_type": "execute_result"
    }
   ],
   "source": [
    "lr"
   ]
  },
  {
   "cell_type": "code",
   "execution_count": 47,
   "id": "6394f51f-043f-4f0b-ba7b-512704ddf3f6",
   "metadata": {
    "execution": {
     "iopub.execute_input": "2024-02-04T02:48:43.799082Z",
     "iopub.status.busy": "2024-02-04T02:48:43.798152Z",
     "iopub.status.idle": "2024-02-04T02:48:44.703507Z",
     "shell.execute_reply": "2024-02-04T02:48:44.702818Z",
     "shell.execute_reply.started": "2024-02-04T02:48:43.799054Z"
    }
   },
   "outputs": [
    {
     "data": {
      "text/plain": [
       "<fastai.learner.Learner at 0x7fbacaa93f70>"
      ]
     },
     "execution_count": 47,
     "metadata": {},
     "output_type": "execute_result"
    }
   ],
   "source": [
    "learn.load(\"10epoch_lr0.00033\")\n",
    "# evaluate_with_prompts(learn, prompts)"
   ]
  },
  {
   "cell_type": "code",
   "execution_count": 36,
   "id": "1fc18779-9d7f-46b6-b4ee-73e2b26df759",
   "metadata": {
    "execution": {
     "iopub.execute_input": "2024-02-04T01:57:52.799614Z",
     "iopub.status.busy": "2024-02-04T01:57:52.798885Z",
     "iopub.status.idle": "2024-02-04T01:58:13.737930Z",
     "shell.execute_reply": "2024-02-04T01:58:13.737402Z",
     "shell.execute_reply.started": "2024-02-04T01:57:52.799579Z"
    }
   },
   "outputs": [
    {
     "data": {
      "text/html": [
       "\n",
       "<style>\n",
       "    /* Turns off some styling */\n",
       "    progress {\n",
       "        /* gets rid of default border in Firefox and Opera. */\n",
       "        border: none;\n",
       "        /* Needs to be in here for Safari polyfill so background images work as expected. */\n",
       "        background-size: auto;\n",
       "    }\n",
       "    progress:not([value]), progress:not([value])::-webkit-progress-bar {\n",
       "        background: repeating-linear-gradient(45deg, #7e7e7e, #7e7e7e 10px, #5c5c5c 10px, #5c5c5c 20px);\n",
       "    }\n",
       "    .progress-bar-interrupted, .progress-bar-interrupted::-webkit-progress-bar {\n",
       "        background: #F44336;\n",
       "    }\n",
       "</style>\n"
      ],
      "text/plain": [
       "<IPython.core.display.HTML object>"
      ]
     },
     "metadata": {},
     "output_type": "display_data"
    },
    {
     "data": {
      "text/html": [],
      "text/plain": [
       "<IPython.core.display.HTML object>"
      ]
     },
     "metadata": {},
     "output_type": "display_data"
    },
    {
     "data": {
      "text/plain": [
       "(#3) [3.867004871368408,0.32204753160476685,47.799007415771484]"
      ]
     },
     "execution_count": 36,
     "metadata": {},
     "output_type": "execute_result"
    }
   ],
   "source": [
    "learn.validate() # Proves that we successfully loaded the learner"
   ]
  },
  {
   "cell_type": "code",
   "execution_count": 48,
   "id": "e6972352-8020-435b-9462-5cb9966daeed",
   "metadata": {
    "execution": {
     "iopub.execute_input": "2024-02-04T02:49:03.292663Z",
     "iopub.status.busy": "2024-02-04T02:49:03.292378Z",
     "iopub.status.idle": "2024-02-04T02:54:49.038098Z",
     "shell.execute_reply": "2024-02-04T02:54:49.037517Z",
     "shell.execute_reply.started": "2024-02-04T02:49:03.292663Z"
    }
   },
   "outputs": [
    {
     "data": {
      "text/html": [
       "\n",
       "<style>\n",
       "    /* Turns off some styling */\n",
       "    progress {\n",
       "        /* gets rid of default border in Firefox and Opera. */\n",
       "        border: none;\n",
       "        /* Needs to be in here for Safari polyfill so background images work as expected. */\n",
       "        background-size: auto;\n",
       "    }\n",
       "    progress:not([value]), progress:not([value])::-webkit-progress-bar {\n",
       "        background: repeating-linear-gradient(45deg, #7e7e7e, #7e7e7e 10px, #5c5c5c 10px, #5c5c5c 20px);\n",
       "    }\n",
       "    .progress-bar-interrupted, .progress-bar-interrupted::-webkit-progress-bar {\n",
       "        background: #F44336;\n",
       "    }\n",
       "</style>\n"
      ],
      "text/plain": [
       "<IPython.core.display.HTML object>"
      ]
     },
     "metadata": {},
     "output_type": "display_data"
    },
    {
     "data": {
      "text/html": [
       "<table border=\"1\" class=\"dataframe\">\n",
       "  <thead>\n",
       "    <tr style=\"text-align: left;\">\n",
       "      <th>epoch</th>\n",
       "      <th>train_loss</th>\n",
       "      <th>valid_loss</th>\n",
       "      <th>accuracy</th>\n",
       "      <th>perplexity</th>\n",
       "      <th>time</th>\n",
       "    </tr>\n",
       "  </thead>\n",
       "  <tbody>\n",
       "    <tr>\n",
       "      <td>0</td>\n",
       "      <td>3.520464</td>\n",
       "      <td>3.844811</td>\n",
       "      <td>0.322852</td>\n",
       "      <td>46.749859</td>\n",
       "      <td>01:51</td>\n",
       "    </tr>\n",
       "    <tr>\n",
       "      <td>1</td>\n",
       "      <td>3.397330</td>\n",
       "      <td>3.834012</td>\n",
       "      <td>0.323691</td>\n",
       "      <td>46.247704</td>\n",
       "      <td>01:54</td>\n",
       "    </tr>\n",
       "    <tr>\n",
       "      <td>2</td>\n",
       "      <td>3.378972</td>\n",
       "      <td>3.843029</td>\n",
       "      <td>0.323746</td>\n",
       "      <td>46.666592</td>\n",
       "      <td>01:56</td>\n",
       "    </tr>\n",
       "  </tbody>\n",
       "</table>"
      ],
      "text/plain": [
       "<IPython.core.display.HTML object>"
      ]
     },
     "metadata": {},
     "output_type": "display_data"
    },
    {
     "data": {
      "image/png": "[encoded data removed]",
      "text/plain": [
       "<Figure size 640x480 with 1 Axes>"
      ]
     },
     "metadata": {},
     "output_type": "display_data"
    }
   ],
   "source": [
    "learn, lr2 = fine_tune_unfreeze_2_layers(learn, lr, 3)"
   ]
  },
  {
   "cell_type": "code",
   "execution_count": 51,
   "id": "dec98048-649c-44ea-be00-1f8ba1774ee1",
   "metadata": {
    "execution": {
     "iopub.execute_input": "2024-02-04T02:56:33.149530Z",
     "iopub.status.busy": "2024-02-04T02:56:33.148839Z",
     "iopub.status.idle": "2024-02-04T03:02:23.630310Z",
     "shell.execute_reply": "2024-02-04T03:02:23.629809Z",
     "shell.execute_reply.started": "2024-02-04T02:56:33.149504Z"
    }
   },
   "outputs": [
    {
     "data": {
      "text/html": [
       "\n",
       "<style>\n",
       "    /* Turns off some styling */\n",
       "    progress {\n",
       "        /* gets rid of default border in Firefox and Opera. */\n",
       "        border: none;\n",
       "        /* Needs to be in here for Safari polyfill so background images work as expected. */\n",
       "        background-size: auto;\n",
       "    }\n",
       "    progress:not([value]), progress:not([value])::-webkit-progress-bar {\n",
       "        background: repeating-linear-gradient(45deg, #7e7e7e, #7e7e7e 10px, #5c5c5c 10px, #5c5c5c 20px);\n",
       "    }\n",
       "    .progress-bar-interrupted, .progress-bar-interrupted::-webkit-progress-bar {\n",
       "        background: #F44336;\n",
       "    }\n",
       "</style>\n"
      ],
      "text/plain": [
       "<IPython.core.display.HTML object>"
      ]
     },
     "metadata": {},
     "output_type": "display_data"
    },
    {
     "data": {
      "text/html": [
       "<table border=\"1\" class=\"dataframe\">\n",
       "  <thead>\n",
       "    <tr style=\"text-align: left;\">\n",
       "      <th>epoch</th>\n",
       "      <th>train_loss</th>\n",
       "      <th>valid_loss</th>\n",
       "      <th>accuracy</th>\n",
       "      <th>perplexity</th>\n",
       "      <th>time</th>\n",
       "    </tr>\n",
       "  </thead>\n",
       "  <tbody>\n",
       "    <tr>\n",
       "      <td>0</td>\n",
       "      <td>3.336808</td>\n",
       "      <td>3.842072</td>\n",
       "      <td>0.323820</td>\n",
       "      <td>46.621998</td>\n",
       "      <td>01:55</td>\n",
       "    </tr>\n",
       "    <tr>\n",
       "      <td>1</td>\n",
       "      <td>3.317950</td>\n",
       "      <td>3.842168</td>\n",
       "      <td>0.323915</td>\n",
       "      <td>46.626465</td>\n",
       "      <td>01:55</td>\n",
       "    </tr>\n",
       "    <tr>\n",
       "      <td>2</td>\n",
       "      <td>3.267670</td>\n",
       "      <td>3.843858</td>\n",
       "      <td>0.324068</td>\n",
       "      <td>46.705326</td>\n",
       "      <td>01:56</td>\n",
       "    </tr>\n",
       "  </tbody>\n",
       "</table>"
      ],
      "text/plain": [
       "<IPython.core.display.HTML object>"
      ]
     },
     "metadata": {},
     "output_type": "display_data"
    },
    {
     "data": {
      "image/png": "[encoded data removed]",
      "text/plain": [
       "<Figure size 640x480 with 1 Axes>"
      ]
     },
     "metadata": {},
     "output_type": "display_data"
    }
   ],
   "source": [
    "learn = fine_tune_unfreeze_3_layers(learn, lr2, 3)"
   ]
  },
  {
   "cell_type": "code",
   "execution_count": 52,
   "id": "2c611581-0491-4d5b-b61f-169c2b188a29",
   "metadata": {
    "execution": {
     "iopub.execute_input": "2024-02-04T03:03:40.260845Z",
     "iopub.status.busy": "2024-02-04T03:03:40.260321Z",
     "iopub.status.idle": "2024-02-04T03:13:36.667331Z",
     "shell.execute_reply": "2024-02-04T03:13:36.666804Z",
     "shell.execute_reply.started": "2024-02-04T03:03:40.260817Z"
    }
   },
   "outputs": [
    {
     "data": {
      "text/html": [
       "\n",
       "<style>\n",
       "    /* Turns off some styling */\n",
       "    progress {\n",
       "        /* gets rid of default border in Firefox and Opera. */\n",
       "        border: none;\n",
       "        /* Needs to be in here for Safari polyfill so background images work as expected. */\n",
       "        background-size: auto;\n",
       "    }\n",
       "    progress:not([value]), progress:not([value])::-webkit-progress-bar {\n",
       "        background: repeating-linear-gradient(45deg, #7e7e7e, #7e7e7e 10px, #5c5c5c 10px, #5c5c5c 20px);\n",
       "    }\n",
       "    .progress-bar-interrupted, .progress-bar-interrupted::-webkit-progress-bar {\n",
       "        background: #F44336;\n",
       "    }\n",
       "</style>\n"
      ],
      "text/plain": [
       "<IPython.core.display.HTML object>"
      ]
     },
     "metadata": {},
     "output_type": "display_data"
    },
    {
     "data": {
      "text/html": [
       "<table border=\"1\" class=\"dataframe\">\n",
       "  <thead>\n",
       "    <tr style=\"text-align: left;\">\n",
       "      <th>epoch</th>\n",
       "      <th>train_loss</th>\n",
       "      <th>valid_loss</th>\n",
       "      <th>accuracy</th>\n",
       "      <th>perplexity</th>\n",
       "      <th>time</th>\n",
       "    </tr>\n",
       "  </thead>\n",
       "  <tbody>\n",
       "    <tr>\n",
       "      <td>0</td>\n",
       "      <td>3.311338</td>\n",
       "      <td>3.844131</td>\n",
       "      <td>0.324101</td>\n",
       "      <td>46.718079</td>\n",
       "      <td>01:56</td>\n",
       "    </tr>\n",
       "    <tr>\n",
       "      <td>1</td>\n",
       "      <td>3.325468</td>\n",
       "      <td>3.844718</td>\n",
       "      <td>0.323584</td>\n",
       "      <td>46.745476</td>\n",
       "      <td>01:57</td>\n",
       "    </tr>\n",
       "    <tr>\n",
       "      <td>2</td>\n",
       "      <td>3.234654</td>\n",
       "      <td>3.850857</td>\n",
       "      <td>0.324751</td>\n",
       "      <td>47.033356</td>\n",
       "      <td>02:02</td>\n",
       "    </tr>\n",
       "    <tr>\n",
       "      <td>3</td>\n",
       "      <td>3.097637</td>\n",
       "      <td>3.869515</td>\n",
       "      <td>0.324384</td>\n",
       "      <td>47.919159</td>\n",
       "      <td>02:00</td>\n",
       "    </tr>\n",
       "    <tr>\n",
       "      <td>4</td>\n",
       "      <td>3.078905</td>\n",
       "      <td>3.881594</td>\n",
       "      <td>0.324154</td>\n",
       "      <td>48.501484</td>\n",
       "      <td>01:57</td>\n",
       "    </tr>\n",
       "  </tbody>\n",
       "</table>"
      ],
      "text/plain": [
       "<IPython.core.display.HTML object>"
      ]
     },
     "metadata": {},
     "output_type": "display_data"
    },
    {
     "data": {
      "image/png": "[encoded data removed]",
      "text/plain": [
       "<Figure size 640x480 with 1 Axes>"
      ]
     },
     "metadata": {},
     "output_type": "display_data"
    }
   ],
   "source": [
    "learn = fine_tune_unfreeze(learn, lr2, 5)"
   ]
  },
  {
   "cell_type": "code",
   "execution_count": 54,
   "id": "b4a2146b-a506-4940-a711-e02994578ee2",
   "metadata": {
    "execution": {
     "iopub.execute_input": "2024-02-04T03:26:27.632498Z",
     "iopub.status.busy": "2024-02-04T03:26:27.631635Z",
     "iopub.status.idle": "2024-02-04T03:26:29.709223Z",
     "shell.execute_reply": "2024-02-04T03:26:29.708460Z",
     "shell.execute_reply.started": "2024-02-04T03:26:27.632470Z"
    }
   },
   "outputs": [
    {
     "data": {
      "text/plain": [
       "Path('models/finetuned_lr0.00033_5cycle.pth')"
      ]
     },
     "execution_count": 54,
     "metadata": {},
     "output_type": "execute_result"
    }
   ],
   "source": [
    "learn.save(f\"finetuned_lr{round(lr, 5)}_5cycle\")"
   ]
  },
  {
   "cell_type": "code",
   "execution_count": 55,
   "id": "00705d29-4166-4fbc-a208-c0f514c29cfc",
   "metadata": {
    "execution": {
     "iopub.execute_input": "2024-02-04T03:26:30.592385Z",
     "iopub.status.busy": "2024-02-04T03:26:30.591590Z",
     "iopub.status.idle": "2024-02-04T03:26:33.095008Z",
     "shell.execute_reply": "2024-02-04T03:26:33.092679Z",
     "shell.execute_reply.started": "2024-02-04T03:26:30.592356Z"
    }
   },
   "outputs": [
    {
     "name": "stderr",
     "output_type": "stream",
     "text": [
      "The attention mask and the pad token id were not set. As a consequence, you may observe unexpected behavior. Please pass your input's `attention_mask` to obtain reliable results.\n",
      "Setting `pad_token_id` to `eos_token_id`:50256 for open-end generation.\n",
      "The attention mask and the pad token id were not set. As a consequence, you may observe unexpected behavior. Please pass your input's `attention_mask` to obtain reliable results.\n",
      "Setting `pad_token_id` to `eos_token_id`:50256 for open-end generation.\n"
     ]
    },
    {
     "name": "stdout",
     "output_type": "stream",
     "text": [
      "I've founded a non-profit organization dedicated to educating the public about mental health and advocating for the rights and well-being of the mentally disabled. Our mission is to educate the public about mental health and advocating for the rights and well-being of\n"
     ]
    },
    {
     "name": "stderr",
     "output_type": "stream",
     "text": [
      "The attention mask and the pad token id were not set. As a consequence, you may observe unexpected behavior. Please pass your input's `attention_mask` to obtain reliable results.\n",
      "Setting `pad_token_id` to `eos_token_id`:50256 for open-end generation.\n"
     ]
    },
    {
     "name": "stdout",
     "output_type": "stream",
     "text": [
      "Dedicated Film professional with a demonstrated history of working in the Film & Television industry. Skilled in Photography, Videography, Photography, and Film Production. Strong arts and design professional with a Bachelor of Fine Arts (BFA) focused in Film\n"
     ]
    },
    {
     "name": "stderr",
     "output_type": "stream",
     "text": [
      "The attention mask and the pad token id were not set. As a consequence, you may observe unexpected behavior. Please pass your input's `attention_mask` to obtain reliable results.\n",
      "Setting `pad_token_id` to `eos_token_id`:50256 for open-end generation.\n"
     ]
    },
    {
     "name": "stdout",
     "output_type": "stream",
     "text": [
      "Machine Learning Engineer with a demonstrated history of working in the information technology and services industry. Skilled in Python, Java, C, C++, C#, and SQL. Strong engineering professional with a Bachelor of Science (B.S.) focused in\n"
     ]
    },
    {
     "name": "stderr",
     "output_type": "stream",
     "text": [
      "The attention mask and the pad token id were not set. As a consequence, you may observe unexpected behavior. Please pass your input's `attention_mask` to obtain reliable results.\n",
      "Setting `pad_token_id` to `eos_token_id`:50256 for open-end generation.\n"
     ]
    },
    {
     "name": "stdout",
     "output_type": "stream",
     "text": [
      "I'm a business professional with a demonstrated history of working in the information technology and services industry. Skilled in Microsoft Excel, Salesforce, Salesforce.com, and Salesforce CRM. Strong information technology professional with a Bachelor's degree focused in\n"
     ]
    },
    {
     "name": "stderr",
     "output_type": "stream",
     "text": [
      "The attention mask and the pad token id were not set. As a consequence, you may observe unexpected behavior. Please pass your input's `attention_mask` to obtain reliable results.\n",
      "Setting `pad_token_id` to `eos_token_id`:50256 for open-end generation.\n"
     ]
    },
    {
     "name": "stdout",
     "output_type": "stream",
     "text": [
      "I'm a content creator, content strategist, content strategist, content strategist, content strategist, content strategist, content strategist, content strategist, content strategist, content strategist, content strategist, content strategist, content strategist, content strategist, content strategist, content strategist\n",
      "Passionate Animator with a demonstrated history of working in the animation industry. Strong arts and design professional with a Bachelor of Fine Arts (BFA) focused in Fine Arts from California State University, Fullerton.I am a recent graduate of the\n"
     ]
    }
   ],
   "source": [
    "evaluate_with_prompts(learn, prompts)"
   ]
  },
  {
   "cell_type": "code",
   "execution_count": 41,
   "id": "6e536170-ab0b-4231-8e74-3d800ac79c19",
   "metadata": {
    "execution": {
     "iopub.execute_input": "2024-02-04T02:45:46.735300Z",
     "iopub.status.busy": "2024-02-04T02:45:46.734417Z",
     "iopub.status.idle": "2024-02-04T02:45:46.739819Z",
     "shell.execute_reply": "2024-02-04T02:45:46.739146Z",
     "shell.execute_reply.started": "2024-02-04T02:45:46.735272Z"
    }
   },
   "outputs": [
    {
     "data": {
      "text/plain": [
       "0.0001655655651120469"
      ]
     },
     "execution_count": 41,
     "metadata": {},
     "output_type": "execute_result"
    }
   ],
   "source": [
    "lr2"
   ]
  },
  {
   "cell_type": "code",
   "execution_count": null,
   "id": "9586c799-1c92-45e3-8376-3e43064a7efa",
   "metadata": {},
   "outputs": [],
   "source": []
  }
 ],
 "metadata": {
  "kernelspec": {
   "display_name": "Python 3 (ipykernel)",
   "language": "python",
   "name": "python3"
  },
  "language_info": {
   "codemirror_mode": {
    "name": "ipython",
    "version": 3
   },
   "file_extension": ".py",
   "mimetype": "text/x-python",
   "name": "python",
   "nbconvert_exporter": "python",
   "pygments_lexer": "ipython3",
   "version": "3.9.16"
  }
 },
 "nbformat": 4,
 "nbformat_minor": 5
}
