{
 "cells": [
  {
   "cell_type": "markdown",
   "metadata": {},
   "source": [
    "# 1. Preparing the data\n",
    "\n",
    "Here we use a sample dataset that anyone can freely download from LinkedIn Dataset. Here is the url: https://nubela.co/blog/sample-data-for-linkdb/"
   ]
  },
  {
   "cell_type": "code",
   "execution_count": 2,
   "metadata": {
    "execution": {
     "iopub.execute_input": "2024-01-31T20:29:02.840434Z",
     "iopub.status.busy": "2024-01-31T20:29:02.839496Z",
     "iopub.status.idle": "2024-01-31T20:29:06.945780Z",
     "shell.execute_reply": "2024-01-31T20:29:06.945018Z",
     "shell.execute_reply.started": "2024-01-31T20:29:02.840397Z"
    }
   },
   "outputs": [
    {
     "name": "stdout",
     "output_type": "stream",
     "text": [
      "Collecting langdetect\n",
      "  Downloading langdetect-1.0.9.tar.gz (981 kB)\n",
      "\u001b[2K     \u001b[90m━━━━━━━━━━━━━━━━━━━━━━━━━━━━━━━━━━━━━━\u001b[0m \u001b[32m981.5/981.5 kB\u001b[0m \u001b[31m59.2 MB/s\u001b[0m eta \u001b[36m0:00:00\u001b[0m\n",
      "\u001b[?25h  Preparing metadata (setup.py) ... \u001b[?25ldone\n",
      "\u001b[?25hRequirement already satisfied: six in /usr/lib/python3/dist-packages (from langdetect) (1.14.0)\n",
      "Building wheels for collected packages: langdetect\n",
      "  Building wheel for langdetect (setup.py) ... \u001b[?25ldone\n",
      "\u001b[?25h  Created wheel for langdetect: filename=langdetect-1.0.9-py3-none-any.whl size=993225 sha256=f9008e3a8e7a54ffa6aebf2ff263402f4ac0ce045310040b7db381e9faf9fbcc\n",
      "  Stored in directory: /root/.cache/pip/wheels/6a/67/f8/9cf1a8ff87e0b37f738769df49cc142a655489a6d27b68089f\n",
      "Successfully built langdetect\n",
      "Installing collected packages: langdetect\n",
      "Successfully installed langdetect-1.0.9\n",
      "\u001b[33mWARNING: Running pip as the 'root' user can result in broken permissions and conflicting behaviour with the system package manager. It is recommended to use a virtual environment instead: https://pip.pypa.io/warnings/venv\u001b[0m\u001b[33m\n",
      "\u001b[0m"
     ]
    }
   ],
   "source": [
    "!pip install langdetect"
   ]
  },
  {
   "cell_type": "code",
   "execution_count": 24,
   "metadata": {
    "execution": {
     "iopub.execute_input": "2024-01-31T20:37:37.947832Z",
     "iopub.status.busy": "2024-01-31T20:37:37.947183Z",
     "iopub.status.idle": "2024-01-31T20:37:41.200372Z",
     "shell.execute_reply": "2024-01-31T20:37:41.199529Z",
     "shell.execute_reply.started": "2024-01-31T20:37:37.947807Z"
    }
   },
   "outputs": [
    {
     "name": "stdout",
     "output_type": "stream",
     "text": [
      "Collecting fastai\n",
      "  Downloading fastai-2.7.13-py3-none-any.whl (232 kB)\n",
      "\u001b[2K     \u001b[90m━━━━━━━━━━━━━━━━━━━━━━━━━━━━━━━━━━━━━━\u001b[0m \u001b[32m232.2/232.2 kB\u001b[0m \u001b[31m23.4 MB/s\u001b[0m eta \u001b[36m0:00:00\u001b[0m\n",
      "\u001b[?25hRequirement already satisfied: scipy in /usr/local/lib/python3.9/dist-packages (from fastai) (1.9.2)\n",
      "Requirement already satisfied: spacy<4 in /usr/local/lib/python3.9/dist-packages (from fastai) (3.4.1)\n",
      "Collecting fastprogress>=0.2.4\n",
      "  Downloading fastprogress-1.0.3-py3-none-any.whl (12 kB)\n",
      "Collecting fastcore<1.6,>=1.5.29\n",
      "  Downloading fastcore-1.5.29-py3-none-any.whl (67 kB)\n",
      "\u001b[2K     \u001b[90m━━━━━━━━━━━━━━━━━━━━━━━━━━━━━━━━━━━━━━━━\u001b[0m \u001b[32m67.6/67.6 kB\u001b[0m \u001b[31m22.3 MB/s\u001b[0m eta \u001b[36m0:00:00\u001b[0m\n",
      "\u001b[?25hRequirement already satisfied: scikit-learn in /usr/local/lib/python3.9/dist-packages (from fastai) (1.1.2)\n",
      "Requirement already satisfied: pip in /usr/local/lib/python3.9/dist-packages (from fastai) (22.3.1)\n",
      "Requirement already satisfied: pillow>=9.0.0 in /usr/local/lib/python3.9/dist-packages (from fastai) (9.2.0)\n",
      "Requirement already satisfied: torch<2.2,>=1.10 in /usr/local/lib/python3.9/dist-packages (from fastai) (1.12.1+cu116)\n",
      "Collecting fastdownload<2,>=0.0.5\n",
      "  Downloading fastdownload-0.0.7-py3-none-any.whl (12 kB)\n",
      "Requirement already satisfied: matplotlib in /usr/local/lib/python3.9/dist-packages (from fastai) (3.6.1)\n",
      "Requirement already satisfied: requests in /usr/local/lib/python3.9/dist-packages (from fastai) (2.28.2)\n",
      "Requirement already satisfied: pyyaml in /usr/local/lib/python3.9/dist-packages (from fastai) (5.4.1)\n",
      "Requirement already satisfied: pandas in /usr/local/lib/python3.9/dist-packages (from fastai) (1.5.0)\n",
      "Requirement already satisfied: torchvision>=0.11 in /usr/local/lib/python3.9/dist-packages (from fastai) (0.13.1+cu116)\n",
      "Requirement already satisfied: packaging in /usr/local/lib/python3.9/dist-packages (from fastai) (23.0)\n",
      "Requirement already satisfied: murmurhash<1.1.0,>=0.28.0 in /usr/local/lib/python3.9/dist-packages (from spacy<4->fastai) (1.0.9)\n",
      "Requirement already satisfied: srsly<3.0.0,>=2.4.3 in /usr/local/lib/python3.9/dist-packages (from spacy<4->fastai) (2.4.5)\n",
      "Requirement already satisfied: langcodes<4.0.0,>=3.2.0 in /usr/local/lib/python3.9/dist-packages (from spacy<4->fastai) (3.3.0)\n",
      "Requirement already satisfied: numpy>=1.15.0 in /usr/local/lib/python3.9/dist-packages (from spacy<4->fastai) (1.23.4)\n",
      "Requirement already satisfied: setuptools in /usr/local/lib/python3.9/dist-packages (from spacy<4->fastai) (66.1.1)\n",
      "Requirement already satisfied: jinja2 in /usr/local/lib/python3.9/dist-packages (from spacy<4->fastai) (3.1.2)\n",
      "Requirement already satisfied: spacy-legacy<3.1.0,>=3.0.9 in /usr/local/lib/python3.9/dist-packages (from spacy<4->fastai) (3.0.12)\n",
      "Requirement already satisfied: typer<0.5.0,>=0.3.0 in /usr/local/lib/python3.9/dist-packages (from spacy<4->fastai) (0.4.2)\n",
      "Requirement already satisfied: pydantic!=1.8,!=1.8.1,<1.10.0,>=1.7.4 in /usr/local/lib/python3.9/dist-packages (from spacy<4->fastai) (1.9.2)\n",
      "Requirement already satisfied: tqdm<5.0.0,>=4.38.0 in /usr/local/lib/python3.9/dist-packages (from spacy<4->fastai) (4.64.1)\n",
      "Requirement already satisfied: wasabi<1.1.0,>=0.9.1 in /usr/local/lib/python3.9/dist-packages (from spacy<4->fastai) (0.10.1)\n",
      "Requirement already satisfied: spacy-loggers<2.0.0,>=1.0.0 in /usr/local/lib/python3.9/dist-packages (from spacy<4->fastai) (1.0.4)\n",
      "Requirement already satisfied: pathy>=0.3.5 in /usr/local/lib/python3.9/dist-packages (from spacy<4->fastai) (0.10.1)\n",
      "Requirement already satisfied: preshed<3.1.0,>=3.0.2 in /usr/local/lib/python3.9/dist-packages (from spacy<4->fastai) (3.0.8)\n",
      "Requirement already satisfied: catalogue<2.1.0,>=2.0.6 in /usr/local/lib/python3.9/dist-packages (from spacy<4->fastai) (2.0.8)\n",
      "Requirement already satisfied: thinc<8.2.0,>=8.1.0 in /usr/local/lib/python3.9/dist-packages (from spacy<4->fastai) (8.1.7)\n",
      "Requirement already satisfied: cymem<2.1.0,>=2.0.2 in /usr/local/lib/python3.9/dist-packages (from spacy<4->fastai) (2.0.7)\n",
      "Requirement already satisfied: certifi>=2017.4.17 in /usr/lib/python3/dist-packages (from requests->fastai) (2019.11.28)\n",
      "Requirement already satisfied: charset-normalizer<4,>=2 in /usr/local/lib/python3.9/dist-packages (from requests->fastai) (2.1.1)\n",
      "Requirement already satisfied: urllib3<1.27,>=1.21.1 in /usr/local/lib/python3.9/dist-packages (from requests->fastai) (1.26.14)\n",
      "Requirement already satisfied: idna<4,>=2.5 in /usr/lib/python3/dist-packages (from requests->fastai) (2.8)\n",
      "Requirement already satisfied: typing-extensions in /usr/local/lib/python3.9/dist-packages (from torch<2.2,>=1.10->fastai) (4.4.0)\n",
      "Requirement already satisfied: contourpy>=1.0.1 in /usr/local/lib/python3.9/dist-packages (from matplotlib->fastai) (1.0.7)\n",
      "Requirement already satisfied: fonttools>=4.22.0 in /usr/local/lib/python3.9/dist-packages (from matplotlib->fastai) (4.38.0)\n",
      "Requirement already satisfied: pyparsing>=2.2.1 in /usr/local/lib/python3.9/dist-packages (from matplotlib->fastai) (3.0.9)\n",
      "Requirement already satisfied: cycler>=0.10 in /usr/local/lib/python3.9/dist-packages (from matplotlib->fastai) (0.11.0)\n",
      "Requirement already satisfied: kiwisolver>=1.0.1 in /usr/local/lib/python3.9/dist-packages (from matplotlib->fastai) (1.4.4)\n",
      "Requirement already satisfied: python-dateutil>=2.7 in /usr/local/lib/python3.9/dist-packages (from matplotlib->fastai) (2.8.2)\n",
      "Requirement already satisfied: pytz>=2020.1 in /usr/local/lib/python3.9/dist-packages (from pandas->fastai) (2022.7.1)\n",
      "Requirement already satisfied: threadpoolctl>=2.0.0 in /usr/local/lib/python3.9/dist-packages (from scikit-learn->fastai) (3.1.0)\n",
      "Requirement already satisfied: joblib>=1.0.0 in /usr/local/lib/python3.9/dist-packages (from scikit-learn->fastai) (1.2.0)\n",
      "Requirement already satisfied: smart-open<7.0.0,>=5.2.1 in /usr/local/lib/python3.9/dist-packages (from pathy>=0.3.5->spacy<4->fastai) (6.3.0)\n",
      "Requirement already satisfied: six>=1.5 in /usr/lib/python3/dist-packages (from python-dateutil>=2.7->matplotlib->fastai) (1.14.0)\n",
      "Requirement already satisfied: blis<0.8.0,>=0.7.8 in /usr/local/lib/python3.9/dist-packages (from thinc<8.2.0,>=8.1.0->spacy<4->fastai) (0.7.9)\n",
      "Requirement already satisfied: confection<1.0.0,>=0.0.1 in /usr/local/lib/python3.9/dist-packages (from thinc<8.2.0,>=8.1.0->spacy<4->fastai) (0.0.4)\n",
      "Requirement already satisfied: click<9.0.0,>=7.1.1 in /usr/local/lib/python3.9/dist-packages (from typer<0.5.0,>=0.3.0->spacy<4->fastai) (8.1.3)\n",
      "Requirement already satisfied: MarkupSafe>=2.0 in /usr/local/lib/python3.9/dist-packages (from jinja2->spacy<4->fastai) (2.1.2)\n",
      "Installing collected packages: fastprogress, fastcore, fastdownload, fastai\n",
      "Successfully installed fastai-2.7.13 fastcore-1.5.29 fastdownload-0.0.7 fastprogress-1.0.3\n",
      "\u001b[33mWARNING: Running pip as the 'root' user can result in broken permissions and conflicting behaviour with the system package manager. It is recommended to use a virtual environment instead: https://pip.pypa.io/warnings/venv\u001b[0m\u001b[33m\n",
      "\u001b[0m"
     ]
    }
   ],
   "source": [
    "!pip install fastai"
   ]
  },
  {
   "cell_type": "code",
   "execution_count": 3,
   "metadata": {
    "execution": {
     "iopub.execute_input": "2024-01-31T20:29:06.947704Z",
     "iopub.status.busy": "2024-01-31T20:29:06.947225Z",
     "iopub.status.idle": "2024-01-31T20:29:07.236714Z",
     "shell.execute_reply": "2024-01-31T20:29:07.236212Z",
     "shell.execute_reply.started": "2024-01-31T20:29:06.947681Z"
    }
   },
   "outputs": [],
   "source": [
    "import json\n",
    "from langdetect import detect\n",
    "import re\n",
    "import string\n",
    "import pandas as pd"
   ]
  },
  {
   "cell_type": "code",
   "execution_count": 4,
   "metadata": {
    "execution": {
     "iopub.execute_input": "2024-01-31T20:29:07.238026Z",
     "iopub.status.busy": "2024-01-31T20:29:07.237406Z",
     "iopub.status.idle": "2024-01-31T20:29:17.259550Z",
     "shell.execute_reply": "2024-01-31T20:29:17.258949Z",
     "shell.execute_reply.started": "2024-01-31T20:29:07.238016Z"
    }
   },
   "outputs": [],
   "source": [
    "data_json = json.load(open('data.json'))"
   ]
  },
  {
   "cell_type": "code",
   "execution_count": 5,
   "metadata": {
    "execution": {
     "iopub.execute_input": "2024-01-31T20:29:17.261186Z",
     "iopub.status.busy": "2024-01-31T20:29:17.260985Z",
     "iopub.status.idle": "2024-01-31T20:29:17.284653Z",
     "shell.execute_reply": "2024-01-31T20:29:17.284105Z",
     "shell.execute_reply.started": "2024-01-31T20:29:17.261169Z"
    }
   },
   "outputs": [],
   "source": [
    "bios = [person[\"summary\"] for person in data_json if \"summary\" in person.keys()]"
   ]
  },
  {
   "cell_type": "code",
   "execution_count": 6,
   "metadata": {
    "execution": {
     "iopub.execute_input": "2024-01-31T20:29:17.285948Z",
     "iopub.status.busy": "2024-01-31T20:29:17.285755Z",
     "iopub.status.idle": "2024-01-31T20:29:17.293251Z",
     "shell.execute_reply": "2024-01-31T20:29:17.292685Z",
     "shell.execute_reply.started": "2024-01-31T20:29:17.285932Z"
    }
   },
   "outputs": [],
   "source": [
    "bios = [bio for bio in bios if (bio != None)]"
   ]
  },
  {
   "cell_type": "code",
   "execution_count": 7,
   "metadata": {
    "execution": {
     "iopub.execute_input": "2024-01-31T20:29:17.294194Z",
     "iopub.status.busy": "2024-01-31T20:29:17.294036Z",
     "iopub.status.idle": "2024-01-31T20:29:17.297358Z",
     "shell.execute_reply": "2024-01-31T20:29:17.296941Z",
     "shell.execute_reply.started": "2024-01-31T20:29:17.294180Z"
    }
   },
   "outputs": [],
   "source": [
    "def is_empty_str(s):\n",
    "    b = [c == \" \" for c in list(s)]\n",
    "    return all(b)"
   ]
  },
  {
   "cell_type": "code",
   "execution_count": 8,
   "metadata": {
    "execution": {
     "iopub.execute_input": "2024-01-31T20:29:17.298542Z",
     "iopub.status.busy": "2024-01-31T20:29:17.298287Z",
     "iopub.status.idle": "2024-01-31T20:29:17.301767Z",
     "shell.execute_reply": "2024-01-31T20:29:17.301180Z",
     "shell.execute_reply.started": "2024-01-31T20:29:17.298527Z"
    }
   },
   "outputs": [],
   "source": [
    "def clean_str(s):\n",
    "    new_str = re.sub(r'http\\S+', '', s) # remove urls\n",
    "    new_str = re.sub(r'\\S*@\\S*\\s?', '', new_str) # remove emails\n",
    "    new_str = ''.join(s for s in new_str if ord(s)>31 and ord(s)<126)\n",
    "    return new_str"
   ]
  },
  {
   "cell_type": "code",
   "execution_count": 9,
   "metadata": {
    "execution": {
     "iopub.execute_input": "2024-01-31T20:29:17.302775Z",
     "iopub.status.busy": "2024-01-31T20:29:17.302619Z",
     "iopub.status.idle": "2024-01-31T20:29:17.305378Z",
     "shell.execute_reply": "2024-01-31T20:29:17.304828Z",
     "shell.execute_reply.started": "2024-01-31T20:29:17.302762Z"
    }
   },
   "outputs": [],
   "source": [
    "def is_only_punc_dig(s):\n",
    "    return all(c.isdigit() or c in string.punctuation or c == ' ' for c in s)"
   ]
  },
  {
   "cell_type": "code",
   "execution_count": 10,
   "metadata": {
    "execution": {
     "iopub.execute_input": "2024-01-31T20:29:17.306394Z",
     "iopub.status.busy": "2024-01-31T20:29:17.306155Z",
     "iopub.status.idle": "2024-01-31T20:29:20.803875Z",
     "shell.execute_reply": "2024-01-31T20:29:20.803085Z",
     "shell.execute_reply.started": "2024-01-31T20:29:17.306379Z"
    }
   },
   "outputs": [],
   "source": [
    "cleaned_bios = bios.copy()\n",
    "\n",
    "for bio in bios:\n",
    "    if is_empty_str(bio):\n",
    "        if bio in cleaned_bios:\n",
    "            cleaned_bios.remove(bio)\n",
    "    else:\n",
    "        cleaned = clean_str(bio)\n",
    "        if is_only_punc_dig(cleaned):\n",
    "            cleaned_bios.remove(bio)\n",
    "        else:\n",
    "            i = cleaned_bios.index(bio)\n",
    "            cleaned_bios[i] = cleaned"
   ]
  },
  {
   "cell_type": "code",
   "execution_count": 11,
   "metadata": {
    "execution": {
     "iopub.execute_input": "2024-01-31T20:29:20.805771Z",
     "iopub.status.busy": "2024-01-31T20:29:20.805554Z",
     "iopub.status.idle": "2024-01-31T20:29:20.811945Z",
     "shell.execute_reply": "2024-01-31T20:29:20.811090Z",
     "shell.execute_reply.started": "2024-01-31T20:29:20.805754Z"
    }
   },
   "outputs": [
    {
     "data": {
      "text/plain": [
       "\"\\nfor bio in cleaned_bios:\\n    try:\\n        detect(bio)\\n    except:\\n        print(bio, '\\ntest:', is_only_punc_dig(bio))\\n\""
      ]
     },
     "execution_count": 11,
     "metadata": {},
     "output_type": "execute_result"
    }
   ],
   "source": [
    "# check if cleaned_bios has any bug texts\n",
    "\n",
    "'''\n",
    "for bio in cleaned_bios:\n",
    "    try:\n",
    "        detect(bio)\n",
    "    except:\n",
    "        print(bio, '\\ntest:', is_only_punc_dig(bio))\n",
    "'''"
   ]
  },
  {
   "cell_type": "code",
   "execution_count": 12,
   "metadata": {
    "execution": {
     "iopub.execute_input": "2024-01-31T20:29:20.813074Z",
     "iopub.status.busy": "2024-01-31T20:29:20.812900Z",
     "iopub.status.idle": "2024-01-31T20:30:26.517864Z",
     "shell.execute_reply": "2024-01-31T20:30:26.517260Z",
     "shell.execute_reply.started": "2024-01-31T20:29:20.813058Z"
    }
   },
   "outputs": [],
   "source": [
    "bios = [bio for bio in cleaned_bios if detect(bio) == 'en']"
   ]
  },
  {
   "cell_type": "code",
   "execution_count": 13,
   "metadata": {
    "execution": {
     "iopub.execute_input": "2024-01-31T20:30:26.518999Z",
     "iopub.status.busy": "2024-01-31T20:30:26.518813Z",
     "iopub.status.idle": "2024-01-31T20:30:26.522414Z",
     "shell.execute_reply": "2024-01-31T20:30:26.521916Z",
     "shell.execute_reply.started": "2024-01-31T20:30:26.518984Z"
    }
   },
   "outputs": [
    {
     "data": {
      "text/plain": [
       "16412"
      ]
     },
     "execution_count": 13,
     "metadata": {},
     "output_type": "execute_result"
    }
   ],
   "source": [
    "len(bios)"
   ]
  },
  {
   "cell_type": "code",
   "execution_count": 19,
   "metadata": {
    "execution": {
     "iopub.execute_input": "2024-01-31T20:34:45.212392Z",
     "iopub.status.busy": "2024-01-31T20:34:45.211862Z",
     "iopub.status.idle": "2024-01-31T20:34:45.383269Z",
     "shell.execute_reply": "2024-01-31T20:34:45.382775Z",
     "shell.execute_reply.started": "2024-01-31T20:34:45.212370Z"
    }
   },
   "outputs": [],
   "source": [
    "# save this file\n",
    "\n",
    "df = pd.DataFrame({'linkedin_bios': bios})\n",
    "df.to_csv(\"bios.csv\")"
   ]
  },
  {
   "cell_type": "code",
   "execution_count": 61,
   "metadata": {
    "execution": {
     "iopub.execute_input": "2024-01-31T20:25:11.394420Z",
     "iopub.status.busy": "2024-01-31T20:25:11.394132Z",
     "iopub.status.idle": "2024-01-31T20:25:11.400022Z",
     "shell.execute_reply": "2024-01-31T20:25:11.399258Z",
     "shell.execute_reply.started": "2024-01-31T20:25:11.394398Z"
    }
   },
   "outputs": [
    {
     "data": {
      "text/plain": [
       "['CP Furniture Services is based in the GTA and specializes in large and small office seating repairs and installations in Ontario and all over North America. We primarily work with seating manufacturers and dealers providing on-site repairs and retrofits for seating in office, health care and government environments. We take pride in our \" small footprint \" approach and are happiest when people say they had no idea we were even there.',\n",
       " 'by trade a setter since 1983.completed machining d.e.p. extensive 1800 hr. courses ,took c.n.c. courses.engraver on computerized system,since 8 years',\n",
       " \"Our Services Include:  Neurofeedback In-Person Sessions, Private-Mobile Sessions & Home-Rental Units.When was the last time you trained your brain?NeurOptimal Neurofeedback is a non-invasive, safe integrative approach to better health, mental well-being and overall wellness.  Neurofeedback provides brain-training that aims to reduce general dysregulations in the brain.  The NeurOptimal Neurofeedback Advanced Software System provides feedback directly to your brain, allowing your brainwaves to communicate with the Software.  Your (amazing) brain self-corrects and thus regulates itself more efficiently.Each session lasts 33 minutes.  Upon completion, many clients have stated that feel a like they've been given a 'reset' and feel more relaxed, less stressed, more mindful, less anxious, and have more clarity.  Many have also reported that they find it easier to make healthier choices, remain more calm in elevated situations, change & adopt new habits with more ease and an overall sense of stronger resiliency.NeurOptimal Neurofeedback is not considered a medical treatment for illness, and does not diagnosis any conditions.  Many people have experienced tremendous relief from mental, physical and emotional symptoms.We provide Neurofeedback to all Ages including but limited to: Children, Parents, First Responders/Front Line Workers, Teachers, Child Care Providers, Addiction Recovery, Trauma-Recovery, Cancer Patients/Recovery (Chemo-Brain), Individuals with Alzheimer's, Care-Givers, Medical & Health Professionals, Business Professionals, Athletes, Musicians, Artists and Students. Everyone can truly benefit from Neurofeedback!We are passionate about the potential of Neurofeedback in creating significant positive changes in people's lives.  Our mission is to support you with your healing and well-being by providing safe, effective Brain-Training to help you feel and live your best life.\"]"
      ]
     },
     "execution_count": 61,
     "metadata": {},
     "output_type": "execute_result"
    }
   ],
   "source": [
    "bios[:3]"
   ]
  },
  {
   "cell_type": "code",
   "execution_count": 20,
   "metadata": {
    "execution": {
     "iopub.execute_input": "2024-01-31T20:35:23.970978Z",
     "iopub.status.busy": "2024-01-31T20:35:23.970353Z",
     "iopub.status.idle": "2024-01-31T20:35:23.974225Z",
     "shell.execute_reply": "2024-01-31T20:35:23.973843Z",
     "shell.execute_reply.started": "2024-01-31T20:35:23.970956Z"
    }
   },
   "outputs": [
    {
     "data": {
      "text/plain": [
       "16412"
      ]
     },
     "execution_count": 20,
     "metadata": {},
     "output_type": "execute_result"
    }
   ],
   "source": [
    "len(bios)"
   ]
  },
  {
   "cell_type": "markdown",
   "metadata": {},
   "source": [
    "# 2. Import pre-trained model"
   ]
  },
  {
   "cell_type": "code",
   "execution_count": 21,
   "metadata": {
    "execution": {
     "iopub.execute_input": "2024-01-31T20:35:26.960993Z",
     "iopub.status.busy": "2024-01-31T20:35:26.960266Z",
     "iopub.status.idle": "2024-01-31T20:35:28.090280Z",
     "shell.execute_reply": "2024-01-31T20:35:28.089692Z",
     "shell.execute_reply.started": "2024-01-31T20:35:26.960970Z"
    }
   },
   "outputs": [],
   "source": [
    "from transformers import GPT2LMHeadModel, GPT2TokenizerFast"
   ]
  },
  {
   "cell_type": "code",
   "execution_count": 22,
   "metadata": {
    "execution": {
     "iopub.execute_input": "2024-01-31T20:35:30.119315Z",
     "iopub.status.busy": "2024-01-31T20:35:30.118377Z",
     "iopub.status.idle": "2024-01-31T20:35:38.866498Z",
     "shell.execute_reply": "2024-01-31T20:35:38.865824Z",
     "shell.execute_reply.started": "2024-01-31T20:35:30.119290Z"
    }
   },
   "outputs": [
    {
     "data": {
      "application/vnd.jupyter.widget-view+json": {
       "model_id": "56b2b2bffe064982b63c18ed222d5670",
       "version_major": 2,
       "version_minor": 0
      },
      "text/plain": [
       "Downloading vocab.json:   0%|          | 0.00/0.99M [00:00<?, ?B/s]"
      ]
     },
     "metadata": {},
     "output_type": "display_data"
    },
    {
     "data": {
      "application/vnd.jupyter.widget-view+json": {
       "model_id": "fb9bfb03e652482bb22585c2d0d2b5a0",
       "version_major": 2,
       "version_minor": 0
      },
      "text/plain": [
       "Downloading merges.txt:   0%|          | 0.00/446k [00:00<?, ?B/s]"
      ]
     },
     "metadata": {},
     "output_type": "display_data"
    },
    {
     "data": {
      "application/vnd.jupyter.widget-view+json": {
       "model_id": "4c66a05f619d4805ae588d4b13a5307d",
       "version_major": 2,
       "version_minor": 0
      },
      "text/plain": [
       "Downloading tokenizer.json:   0%|          | 0.00/1.29M [00:00<?, ?B/s]"
      ]
     },
     "metadata": {},
     "output_type": "display_data"
    },
    {
     "data": {
      "application/vnd.jupyter.widget-view+json": {
       "model_id": "b95a1a5228b54193944709c9e2dbe404",
       "version_major": 2,
       "version_minor": 0
      },
      "text/plain": [
       "Downloading config.json:   0%|          | 0.00/665 [00:00<?, ?B/s]"
      ]
     },
     "metadata": {},
     "output_type": "display_data"
    },
    {
     "data": {
      "application/vnd.jupyter.widget-view+json": {
       "model_id": "cfb47eb5c6b245ec80914d36e5c02c9f",
       "version_major": 2,
       "version_minor": 0
      },
      "text/plain": [
       "Downloading pytorch_model.bin:   0%|          | 0.00/523M [00:00<?, ?B/s]"
      ]
     },
     "metadata": {},
     "output_type": "display_data"
    }
   ],
   "source": [
    "pretrained_weights = 'gpt2'\n",
    "tokenizer = GPT2TokenizerFast.from_pretrained(pretrained_weights)\n",
    "model = GPT2LMHeadModel.from_pretrained(pretrained_weights)"
   ]
  },
  {
   "cell_type": "code",
   "execution_count": 17,
   "metadata": {
    "execution": {
     "iopub.execute_input": "2024-01-31T01:40:28.417946Z",
     "iopub.status.busy": "2024-01-31T01:40:28.417341Z",
     "iopub.status.idle": "2024-01-31T01:40:28.423285Z",
     "shell.execute_reply": "2024-01-31T01:40:28.422754Z",
     "shell.execute_reply.started": "2024-01-31T01:40:28.417920Z"
    }
   },
   "outputs": [
    {
     "data": {
      "text/plain": [
       "[40, 447, 247, 76, 281, 21848, 1597, 4542]"
      ]
     },
     "execution_count": 17,
     "metadata": {},
     "output_type": "execute_result"
    }
   ],
   "source": [
    "ids = tokenizer.encode('I’m an enthusiastic business management')\n",
    "ids"
   ]
  },
  {
   "cell_type": "code",
   "execution_count": 18,
   "metadata": {
    "execution": {
     "iopub.execute_input": "2024-01-31T01:40:28.424171Z",
     "iopub.status.busy": "2024-01-31T01:40:28.423983Z",
     "iopub.status.idle": "2024-01-31T01:40:30.632145Z",
     "shell.execute_reply": "2024-01-31T01:40:30.631535Z",
     "shell.execute_reply.started": "2024-01-31T01:40:28.424151Z"
    }
   },
   "outputs": [
    {
     "data": {
      "text/plain": [
       "'I’m an enthusiastic business management'"
      ]
     },
     "execution_count": 18,
     "metadata": {},
     "output_type": "execute_result"
    }
   ],
   "source": [
    "tokenizer.decode(ids)"
   ]
  },
  {
   "cell_type": "code",
   "execution_count": 19,
   "metadata": {
    "execution": {
     "iopub.execute_input": "2024-01-31T01:40:30.633540Z",
     "iopub.status.busy": "2024-01-31T01:40:30.632894Z",
     "iopub.status.idle": "2024-01-31T01:40:30.636216Z",
     "shell.execute_reply": "2024-01-31T01:40:30.635655Z",
     "shell.execute_reply.started": "2024-01-31T01:40:30.633516Z"
    }
   },
   "outputs": [],
   "source": [
    "import torch"
   ]
  },
  {
   "cell_type": "code",
   "execution_count": 20,
   "metadata": {
    "execution": {
     "iopub.execute_input": "2024-01-31T01:40:30.636975Z",
     "iopub.status.busy": "2024-01-31T01:40:30.636807Z",
     "iopub.status.idle": "2024-01-31T01:40:31.729177Z",
     "shell.execute_reply": "2024-01-31T01:40:31.728445Z",
     "shell.execute_reply.started": "2024-01-31T01:40:30.636958Z"
    }
   },
   "outputs": [
    {
     "name": "stderr",
     "output_type": "stream",
     "text": [
      "The attention mask and the pad token id were not set. As a consequence, you may observe unexpected behavior. Please pass your input's `attention_mask` to obtain reliable results.\n",
      "Setting `pad_token_id` to `eos_token_id`:50256 for open-end generation.\n",
      "/usr/local/lib/python3.9/dist-packages/transformers/generation_utils.py:1202: UserWarning: Neither `max_length` nor `max_new_tokens` have been set, `max_length` will default to 20 (`self.config.max_length`). Controlling `max_length` via the config is deprecated and `max_length` will be removed from the config in v5 of Transformers -- we recommend using `max_new_tokens` to control the maximum length of the generation.\n",
      "  warnings.warn(\n"
     ]
    }
   ],
   "source": [
    "t = torch.LongTensor(ids)[None]\n",
    "preds = model.generate(t)"
   ]
  },
  {
   "cell_type": "code",
   "execution_count": 21,
   "metadata": {
    "execution": {
     "iopub.execute_input": "2024-01-31T01:40:31.730338Z",
     "iopub.status.busy": "2024-01-31T01:40:31.730106Z",
     "iopub.status.idle": "2024-01-31T01:40:31.736383Z",
     "shell.execute_reply": "2024-01-31T01:40:31.735548Z",
     "shell.execute_reply.started": "2024-01-31T01:40:31.730311Z"
    }
   },
   "outputs": [
    {
     "data": {
      "text/plain": [
       "(torch.Size([1, 20]),\n",
       " tensor([   40,   447,   247,    76,   281, 21848,  1597,  4542, 17028,    13,\n",
       "           314,  1101,   257,  1263,  4336,   286,   262,  1664,   290,   314]))"
      ]
     },
     "execution_count": 21,
     "metadata": {},
     "output_type": "execute_result"
    }
   ],
   "source": [
    "preds.shape,preds[0]"
   ]
  },
  {
   "cell_type": "code",
   "execution_count": 22,
   "metadata": {
    "execution": {
     "iopub.execute_input": "2024-01-31T01:40:31.737490Z",
     "iopub.status.busy": "2024-01-31T01:40:31.737270Z",
     "iopub.status.idle": "2024-01-31T01:40:31.742374Z",
     "shell.execute_reply": "2024-01-31T01:40:31.741551Z",
     "shell.execute_reply.started": "2024-01-31T01:40:31.737468Z"
    }
   },
   "outputs": [
    {
     "data": {
      "text/plain": [
       "\"I’m an enthusiastic business management consultant. I'm a big fan of the company and I\""
      ]
     },
     "execution_count": 22,
     "metadata": {},
     "output_type": "execute_result"
    }
   ],
   "source": [
    "tokenizer.decode(preds[0].numpy())"
   ]
  },
  {
   "cell_type": "markdown",
   "metadata": {},
   "source": [
    "# 3. Bridge the gap using fastai"
   ]
  },
  {
   "cell_type": "code",
   "execution_count": 25,
   "metadata": {
    "execution": {
     "iopub.execute_input": "2024-01-31T20:37:57.491773Z",
     "iopub.status.busy": "2024-01-31T20:37:57.491476Z",
     "iopub.status.idle": "2024-01-31T20:37:58.527144Z",
     "shell.execute_reply": "2024-01-31T20:37:58.526398Z",
     "shell.execute_reply.started": "2024-01-31T20:37:57.491751Z"
    }
   },
   "outputs": [],
   "source": [
    "from fastai.text.all import *"
   ]
  },
  {
   "cell_type": "code",
   "execution_count": 26,
   "metadata": {
    "execution": {
     "iopub.execute_input": "2024-01-31T20:38:01.506141Z",
     "iopub.status.busy": "2024-01-31T20:38:01.504980Z",
     "iopub.status.idle": "2024-01-31T20:38:01.510082Z",
     "shell.execute_reply": "2024-01-31T20:38:01.509644Z",
     "shell.execute_reply.started": "2024-01-31T20:38:01.506111Z"
    }
   },
   "outputs": [
    {
     "data": {
      "text/plain": [
       "11488"
      ]
     },
     "execution_count": 26,
     "metadata": {},
     "output_type": "execute_result"
    }
   ],
   "source": [
    "l = len(bios)\n",
    "train_len = int(l*0.7)\n",
    "train_len"
   ]
  },
  {
   "cell_type": "code",
   "execution_count": 27,
   "metadata": {
    "execution": {
     "iopub.execute_input": "2024-01-31T20:38:06.071290Z",
     "iopub.status.busy": "2024-01-31T20:38:06.070758Z",
     "iopub.status.idle": "2024-01-31T20:38:06.075022Z",
     "shell.execute_reply": "2024-01-31T20:38:06.074622Z",
     "shell.execute_reply.started": "2024-01-31T20:38:06.071265Z"
    }
   },
   "outputs": [
    {
     "data": {
      "text/plain": [
       "4924"
      ]
     },
     "execution_count": 27,
     "metadata": {},
     "output_type": "execute_result"
    }
   ],
   "source": [
    "l - train_len"
   ]
  },
  {
   "cell_type": "code",
   "execution_count": 28,
   "metadata": {
    "execution": {
     "iopub.execute_input": "2024-01-31T20:38:09.117522Z",
     "iopub.status.busy": "2024-01-31T20:38:09.116636Z",
     "iopub.status.idle": "2024-01-31T20:38:09.121306Z",
     "shell.execute_reply": "2024-01-31T20:38:09.120874Z",
     "shell.execute_reply.started": "2024-01-31T20:38:09.117497Z"
    }
   },
   "outputs": [],
   "source": [
    "class TransformersTokenizer(Transform):\n",
    "    def __init__(self, tokenizer): self.tokenizer = tokenizer\n",
    "    def encodes(self, x): \n",
    "        device = 'cuda' if torch.cuda.is_available() else 'cpu'\n",
    "        toks = self.tokenizer.tokenize(x)\n",
    "        return tensor(self.tokenizer.convert_tokens_to_ids(toks)).to(device).long()\n",
    "    def decodes(self, x): return TitledStr(self.tokenizer.decode(x.cpu().numpy()))"
   ]
  },
  {
   "cell_type": "code",
   "execution_count": 29,
   "metadata": {
    "execution": {
     "iopub.execute_input": "2024-01-31T20:38:11.205147Z",
     "iopub.status.busy": "2024-01-31T20:38:11.203971Z",
     "iopub.status.idle": "2024-01-31T20:38:12.516729Z",
     "shell.execute_reply": "2024-01-31T20:38:12.516056Z",
     "shell.execute_reply.started": "2024-01-31T20:38:11.205114Z"
    }
   },
   "outputs": [],
   "source": [
    "splits = [range_of(train_len), list(range(train_len, l))]\n",
    "tls = TfmdLists(bios, TransformersTokenizer(tokenizer), splits=splits, dl_type=LMDataLoader)"
   ]
  },
  {
   "cell_type": "code",
   "execution_count": 30,
   "metadata": {
    "execution": {
     "iopub.execute_input": "2024-01-31T20:38:13.303919Z",
     "iopub.status.busy": "2024-01-31T20:38:13.303319Z",
     "iopub.status.idle": "2024-01-31T20:38:13.320468Z",
     "shell.execute_reply": "2024-01-31T20:38:13.319965Z",
     "shell.execute_reply.started": "2024-01-31T20:38:13.303897Z"
    }
   },
   "outputs": [
    {
     "data": {
      "text/plain": [
       "(tensor([ 8697, 34937,  8089,  6168,   318,  1912,   287,   262, 30807,   290,\n",
       "         29786,   287,  1588,   290,  1402,  2607, 24800, 20097,   290, 26162,\n",
       "           287, 10553,   290,   477,   625,  2258,  2253,    13,   775,  7525,\n",
       "           670,   351, 24800, 11372,   290, 15737,  4955,   319,    12, 15654,\n",
       "         20097,   290, 12175, 21013,   329, 24800,   287,  2607,    11,  1535,\n",
       "          1337,   290,  1230, 12493,    13,   775,  1011, 11293,   287,   674,\n",
       "           366,  1402, 24713,   366,  3164,   290,   389, 49414,   618,   661,\n",
       "           910,   484,   550,   645,  2126,   356,   547,   772,   612,    13],\n",
       "        device='cuda:0'),\n",
       " tensor([28516,   319, 13741,   318,   616,  7506,    13,   314,   423,   587,\n",
       "         20200,   284,   423,   262,  5885,   284,  7301,  1180,  3006,   286,\n",
       "           262, 17420,   290,  6431,  3725,   290,  4678,   422,   845,  1180,\n",
       "         22582,    25,   422,  3227,   284,  4200,    11,   422,  4226, 12660,\n",
       "           290,  1628,  2478,   284,  1719,   257,  1365,  4547,   286,   262,\n",
       "          1910,    13,   314,   423,   587,  1498,   284,  2193,   422,   262,\n",
       "         13964,  3626,   340,  1724,   284,  3551,   257,  4226,   290,   262,\n",
       "         27598,  9322,   287,  4441,   257, 13741,    11,   355,   880,   355,\n",
       "          7073,   262, 32800,   290, 10039, 20527,  2672,   284,   307,  1498,\n",
       "           284,  1234,   262, 30198,   503,   287,   262,   995,   290,   262,\n",
       "          1266,  2842,   284,   467,   546,   340,    13, 15046,   616,  1998,\n",
       "           314,   423,   635,  5071,   326,   314, 22191,   618,  1813,   262,\n",
       "          3663,   284,  1037,   290,  2018,   351,   584,   661,    13,  1355,\n",
       "           340,   416,  5742,   319,   262,  2872,  8601,   329,  2785,  4887,\n",
       "           393,  2391,   416,  1719, 12948,  9984,   319,   262,   835,   284,\n",
       "          1205,   281,  2126,    13,   314,  2883,  3249,   649,   661,   508,\n",
       "           389, 15347,   290,   765,   284,  2251,  1223, 11570,   290, 16425,\n",
       "            13,  2011,  3061,   318,   284,   670,   319,  7895,   290,  9389,\n",
       "          4493,    11,   287,   281,  2858,   326, 23868,   942,  7401,    11,\n",
       "          7506,    11,   290,  1242,    13,  1675,   307,  1498,   284,   466,\n",
       "          1593,   670,   290,  2555,   284,  4292,   616,  3725,   290,  5032,\n",
       "           900,    13], device='cuda:0'))"
      ]
     },
     "execution_count": 30,
     "metadata": {},
     "output_type": "execute_result"
    }
   ],
   "source": [
    "tls.train[0],tls.valid[0]"
   ]
  },
  {
   "cell_type": "code",
   "execution_count": 31,
   "metadata": {
    "execution": {
     "iopub.execute_input": "2024-01-31T20:38:17.484213Z",
     "iopub.status.busy": "2024-01-31T20:38:17.483421Z",
     "iopub.status.idle": "2024-01-31T20:38:18.880280Z",
     "shell.execute_reply": "2024-01-31T20:38:18.879246Z",
     "shell.execute_reply.started": "2024-01-31T20:38:17.484186Z"
    }
   },
   "outputs": [
    {
     "name": "stdout",
     "output_type": "stream",
     "text": [
      "CP Furniture Services is based in the GTA and specializes in large and small office seating repairs and installations in Ontario and all over North America. We primarily work with seating manufacturers and dealers providing on-site repairs and retrofits for seating in office, health care and government environments. We take pride in our \" small footprint \" approach and are happiest when people say they had no idea we were even there.\n"
     ]
    }
   ],
   "source": [
    "show_at(tls.train, 0)"
   ]
  },
  {
   "cell_type": "code",
   "execution_count": 32,
   "metadata": {
    "execution": {
     "iopub.execute_input": "2024-01-31T20:38:22.063482Z",
     "iopub.status.busy": "2024-01-31T20:38:22.062689Z",
     "iopub.status.idle": "2024-01-31T20:38:22.637782Z",
     "shell.execute_reply": "2024-01-31T20:38:22.637045Z",
     "shell.execute_reply.started": "2024-01-31T20:38:22.063456Z"
    }
   },
   "outputs": [
    {
     "name": "stdout",
     "output_type": "stream",
     "text": [
      "Working on Film is my passion. I have been fortunate to have the possibility to explore different areas of the Industry and gather knowledge and skills from very different perspectives: from production to sales, from script evaluation and project development to having a better understanding of the market. I have been able to learn from the immense effort it means to write a script and the energies employed in creating a Film, as well as discover the savvy and strategic mindset required to be able to put the Films out in the world and the best ways to go about it.Through my experience I have also discovered that I thrive when given the opportunity to help and connect with other people. Be it by helping on the matchmaking for potential partners or simply by having continuous discussions on the way to develop an idea. I enjoy meeting new people who are passionate and want to create something meaningful and authentic. My goal is to work on exciting and challenging projects, in an environment that nurtures talent, passion, and art. To be able to do important work and continue to expand my knowledge and skill set.\n"
     ]
    }
   ],
   "source": [
    "show_at(tls.valid, 0)"
   ]
  },
  {
   "cell_type": "code",
   "execution_count": 33,
   "metadata": {
    "execution": {
     "iopub.execute_input": "2024-01-31T20:38:25.799107Z",
     "iopub.status.busy": "2024-01-31T20:38:25.798837Z",
     "iopub.status.idle": "2024-01-31T20:38:34.006434Z",
     "shell.execute_reply": "2024-01-31T20:38:34.005777Z",
     "shell.execute_reply.started": "2024-01-31T20:38:25.799088Z"
    }
   },
   "outputs": [],
   "source": [
    "bs,sl = 4,256\n",
    "dls = tls.dataloaders(bs=bs, seq_len=sl)"
   ]
  },
  {
   "cell_type": "code",
   "execution_count": 34,
   "metadata": {
    "execution": {
     "iopub.execute_input": "2024-01-31T20:38:37.084755Z",
     "iopub.status.busy": "2024-01-31T20:38:37.084100Z",
     "iopub.status.idle": "2024-01-31T20:38:37.135181Z",
     "shell.execute_reply": "2024-01-31T20:38:37.134624Z",
     "shell.execute_reply.started": "2024-01-31T20:38:37.084739Z"
    }
   },
   "outputs": [
    {
     "data": {
      "text/html": [
       "<table border=\"1\" class=\"dataframe\">\n",
       "  <thead>\n",
       "    <tr style=\"text-align: right;\">\n",
       "      <th></th>\n",
       "      <th>text</th>\n",
       "      <th>text_</th>\n",
       "    </tr>\n",
       "  </thead>\n",
       "  <tbody>\n",
       "    <tr>\n",
       "      <th>0</th>\n",
       "      <td>I am a FGA certified gemologist (FGA - Gemmological Association of Great Britain), EGM certified gems and jewelry appraiser.  I own business Jewelry Olga designing and making pearl jewelry in Montreal, Canada.Our mission is to create one-of-a-kind pearl jewelry having value and impeccable quality.  Pearl jewelry created by Jewelry Olga is known for its interesting designs and fresh solutions.  I describe our product as \"Elegant Chic at Jewelry Olga\".Why pearls?  Because pearl jewelry has always been a symbol of elegance, prestige and class.Moreover, being a gemologist, I guarantee the quality of the pearls and other gem stones that we use for our creations.  I love pearls, know all about them, and, by following the latest tendencies on the pearl market, I offer my clients The Best.Designer pearl jewelry is always an amazing gift for any occasion - anniversary, wedding, Christmas, St. Valentine's Day, Mother's Day</td>\n",
       "      <td>am a FGA certified gemologist (FGA - Gemmological Association of Great Britain), EGM certified gems and jewelry appraiser.  I own business Jewelry Olga designing and making pearl jewelry in Montreal, Canada.Our mission is to create one-of-a-kind pearl jewelry having value and impeccable quality.  Pearl jewelry created by Jewelry Olga is known for its interesting designs and fresh solutions.  I describe our product as \"Elegant Chic at Jewelry Olga\".Why pearls?  Because pearl jewelry has always been a symbol of elegance, prestige and class.Moreover, being a gemologist, I guarantee the quality of the pearls and other gem stones that we use for our creations.  I love pearls, know all about them, and, by following the latest tendencies on the pearl market, I offer my clients The Best.Designer pearl jewelry is always an amazing gift for any occasion - anniversary, wedding, Christmas, St. Valentine's Day, Mother's Day</td>\n",
       "    </tr>\n",
       "    <tr>\n",
       "      <th>1</th>\n",
       "      <td>working with Fortune 500accounts B2B sales experience in SaaS organizations by managing a pipeline and closing 6-figure contractsIm a Certified AML, Risk and Intelligence professional with over 15 years experience providing governance consulting, risk advisory and investigative services worldwide.I work with private and public entities, local and international governments on risk mitigation and investigative matters.I have experience overseeing and managing thousands of projects in the areas of Due Diligence, Enhanced Due Diligence, Litigation Support, Intellectual Property and  Corporate / AML / Anti-fraud Investigations. I lead day-to-day operations of teams predominantly focused on international EDD engagements and investigations with resources located across the globe.I have also conducted extensive Government program audit/reviews, focusing on operational policies, compliance and procedures, workflow analysis, operational support and system recommendations.Prior to moving to North America, I provided investigation and consulting services to law firms, corporations and intelligence agencies in Europe.Java Software Engineer who solving</td>\n",
       "      <td>with Fortune 500accounts B2B sales experience in SaaS organizations by managing a pipeline and closing 6-figure contractsIm a Certified AML, Risk and Intelligence professional with over 15 years experience providing governance consulting, risk advisory and investigative services worldwide.I work with private and public entities, local and international governments on risk mitigation and investigative matters.I have experience overseeing and managing thousands of projects in the areas of Due Diligence, Enhanced Due Diligence, Litigation Support, Intellectual Property and  Corporate / AML / Anti-fraud Investigations. I lead day-to-day operations of teams predominantly focused on international EDD engagements and investigations with resources located across the globe.I have also conducted extensive Government program audit/reviews, focusing on operational policies, compliance and procedures, workflow analysis, operational support and system recommendations.Prior to moving to North America, I provided investigation and consulting services to law firms, corporations and intelligence agencies in Europe.Java Software Engineer who solving difficult</td>\n",
       "    </tr>\n",
       "  </tbody>\n",
       "</table>"
      ],
      "text/plain": [
       "<IPython.core.display.HTML object>"
      ]
     },
     "metadata": {},
     "output_type": "display_data"
    }
   ],
   "source": [
    "dls.show_batch(max_n=2)"
   ]
  },
  {
   "cell_type": "markdown",
   "metadata": {},
   "source": [
    "# 4. Fine-tuning the model"
   ]
  },
  {
   "cell_type": "code",
   "execution_count": 35,
   "metadata": {
    "execution": {
     "iopub.execute_input": "2024-01-31T20:38:42.771558Z",
     "iopub.status.busy": "2024-01-31T20:38:42.770837Z",
     "iopub.status.idle": "2024-01-31T20:38:42.774923Z",
     "shell.execute_reply": "2024-01-31T20:38:42.774307Z",
     "shell.execute_reply.started": "2024-01-31T20:38:42.771531Z"
    }
   },
   "outputs": [],
   "source": [
    "class DropOutput(Callback):\n",
    "    def after_pred(self): self.learn.pred = self.pred[0]"
   ]
  },
  {
   "cell_type": "code",
   "execution_count": 36,
   "metadata": {
    "execution": {
     "iopub.execute_input": "2024-01-31T20:38:44.372247Z",
     "iopub.status.busy": "2024-01-31T20:38:44.371870Z",
     "iopub.status.idle": "2024-01-31T20:38:44.376989Z",
     "shell.execute_reply": "2024-01-31T20:38:44.376095Z",
     "shell.execute_reply.started": "2024-01-31T20:38:44.372227Z"
    }
   },
   "outputs": [],
   "source": [
    "learn = Learner(dls, model, loss_func=CrossEntropyLossFlat(), cbs=[DropOutput], metrics=Perplexity()).to_fp16()"
   ]
  },
  {
   "cell_type": "code",
   "execution_count": 37,
   "metadata": {
    "execution": {
     "iopub.execute_input": "2024-01-31T20:38:45.857991Z",
     "iopub.status.busy": "2024-01-31T20:38:45.857725Z",
     "iopub.status.idle": "2024-01-31T20:39:05.610346Z",
     "shell.execute_reply": "2024-01-31T20:39:05.609951Z",
     "shell.execute_reply.started": "2024-01-31T20:38:45.857970Z"
    }
   },
   "outputs": [
    {
     "data": {
      "text/html": [
       "\n",
       "<style>\n",
       "    /* Turns off some styling */\n",
       "    progress {\n",
       "        /* gets rid of default border in Firefox and Opera. */\n",
       "        border: none;\n",
       "        /* Needs to be in here for Safari polyfill so background images work as expected. */\n",
       "        background-size: auto;\n",
       "    }\n",
       "    progress:not([value]), progress:not([value])::-webkit-progress-bar {\n",
       "        background: repeating-linear-gradient(45deg, #7e7e7e, #7e7e7e 10px, #5c5c5c 10px, #5c5c5c 20px);\n",
       "    }\n",
       "    .progress-bar-interrupted, .progress-bar-interrupted::-webkit-progress-bar {\n",
       "        background: #F44336;\n",
       "    }\n",
       "</style>\n"
      ],
      "text/plain": [
       "<IPython.core.display.HTML object>"
      ]
     },
     "metadata": {},
     "output_type": "display_data"
    },
    {
     "data": {
      "text/html": [],
      "text/plain": [
       "<IPython.core.display.HTML object>"
      ]
     },
     "metadata": {},
     "output_type": "display_data"
    },
    {
     "data": {
      "text/plain": [
       "(#2) [4.134922504425049,62.48474884033203]"
      ]
     },
     "execution_count": 37,
     "metadata": {},
     "output_type": "execute_result"
    }
   ],
   "source": [
    "learn.validate()"
   ]
  },
  {
   "cell_type": "markdown",
   "metadata": {},
   "source": [
    "The perplexity score is 62.48, which is good for this vocab size"
   ]
  },
  {
   "cell_type": "code",
   "execution_count": 38,
   "metadata": {
    "execution": {
     "iopub.execute_input": "2024-01-31T20:39:10.400669Z",
     "iopub.status.busy": "2024-01-31T20:39:10.400011Z",
     "iopub.status.idle": "2024-01-31T20:39:19.332355Z",
     "shell.execute_reply": "2024-01-31T20:39:19.331842Z",
     "shell.execute_reply.started": "2024-01-31T20:39:10.400647Z"
    }
   },
   "outputs": [
    {
     "data": {
      "text/html": [
       "\n",
       "<style>\n",
       "    /* Turns off some styling */\n",
       "    progress {\n",
       "        /* gets rid of default border in Firefox and Opera. */\n",
       "        border: none;\n",
       "        /* Needs to be in here for Safari polyfill so background images work as expected. */\n",
       "        background-size: auto;\n",
       "    }\n",
       "    progress:not([value]), progress:not([value])::-webkit-progress-bar {\n",
       "        background: repeating-linear-gradient(45deg, #7e7e7e, #7e7e7e 10px, #5c5c5c 10px, #5c5c5c 20px);\n",
       "    }\n",
       "    .progress-bar-interrupted, .progress-bar-interrupted::-webkit-progress-bar {\n",
       "        background: #F44336;\n",
       "    }\n",
       "</style>\n"
      ],
      "text/plain": [
       "<IPython.core.display.HTML object>"
      ]
     },
     "metadata": {},
     "output_type": "display_data"
    },
    {
     "data": {
      "text/html": [],
      "text/plain": [
       "<IPython.core.display.HTML object>"
      ]
     },
     "metadata": {},
     "output_type": "display_data"
    },
    {
     "data": {
      "text/plain": [
       "SuggestedLRs(valley=0.0002754228771664202)"
      ]
     },
     "execution_count": 38,
     "metadata": {},
     "output_type": "execute_result"
    },
    {
     "data": {
      "image/png": "[encoded data removed]",
      "text/plain": [
       "<Figure size 640x480 with 1 Axes>"
      ]
     },
     "metadata": {},
     "output_type": "display_data"
    }
   ],
   "source": [
    "learn.lr_find()"
   ]
  },
  {
   "cell_type": "markdown",
   "metadata": {},
   "source": [
    "Suggested learning rate is a bit lower than 1e-4"
   ]
  },
  {
   "cell_type": "code",
   "execution_count": 39,
   "metadata": {
    "execution": {
     "iopub.execute_input": "2024-01-31T20:39:33.289055Z",
     "iopub.status.busy": "2024-01-31T20:39:33.287954Z",
     "iopub.status.idle": "2024-01-31T20:41:25.445453Z",
     "shell.execute_reply": "2024-01-31T20:41:25.445029Z",
     "shell.execute_reply.started": "2024-01-31T20:39:33.289016Z"
    }
   },
   "outputs": [
    {
     "data": {
      "text/html": [
       "\n",
       "<style>\n",
       "    /* Turns off some styling */\n",
       "    progress {\n",
       "        /* gets rid of default border in Firefox and Opera. */\n",
       "        border: none;\n",
       "        /* Needs to be in here for Safari polyfill so background images work as expected. */\n",
       "        background-size: auto;\n",
       "    }\n",
       "    progress:not([value]), progress:not([value])::-webkit-progress-bar {\n",
       "        background: repeating-linear-gradient(45deg, #7e7e7e, #7e7e7e 10px, #5c5c5c 10px, #5c5c5c 20px);\n",
       "    }\n",
       "    .progress-bar-interrupted, .progress-bar-interrupted::-webkit-progress-bar {\n",
       "        background: #F44336;\n",
       "    }\n",
       "</style>\n"
      ],
      "text/plain": [
       "<IPython.core.display.HTML object>"
      ]
     },
     "metadata": {},
     "output_type": "display_data"
    },
    {
     "data": {
      "text/html": [
       "<table border=\"1\" class=\"dataframe\">\n",
       "  <thead>\n",
       "    <tr style=\"text-align: left;\">\n",
       "      <th>epoch</th>\n",
       "      <th>train_loss</th>\n",
       "      <th>valid_loss</th>\n",
       "      <th>perplexity</th>\n",
       "      <th>time</th>\n",
       "    </tr>\n",
       "  </thead>\n",
       "  <tbody>\n",
       "    <tr>\n",
       "      <td>0</td>\n",
       "      <td>3.672414</td>\n",
       "      <td>3.832401</td>\n",
       "      <td>46.173260</td>\n",
       "      <td>01:52</td>\n",
       "    </tr>\n",
       "  </tbody>\n",
       "</table>"
      ],
      "text/plain": [
       "<IPython.core.display.HTML object>"
      ]
     },
     "metadata": {},
     "output_type": "display_data"
    }
   ],
   "source": [
    "learn.fit_one_cycle(1, 4e-4)"
   ]
  },
  {
   "cell_type": "markdown",
   "metadata": {},
   "source": [
    "Perplexity decreased to 31.13! It's a huge improvement"
   ]
  },
  {
   "cell_type": "code",
   "execution_count": 40,
   "metadata": {
    "execution": {
     "iopub.execute_input": "2024-01-31T20:41:48.782741Z",
     "iopub.status.busy": "2024-01-31T20:41:48.782339Z",
     "iopub.status.idle": "2024-01-31T20:41:48.785300Z",
     "shell.execute_reply": "2024-01-31T20:41:48.784715Z",
     "shell.execute_reply.started": "2024-01-31T20:41:48.782720Z"
    }
   },
   "outputs": [],
   "source": [
    "prompt = \"I'm a business professional with 10 years of\""
   ]
  },
  {
   "cell_type": "code",
   "execution_count": 41,
   "metadata": {
    "execution": {
     "iopub.execute_input": "2024-01-31T20:41:50.445023Z",
     "iopub.status.busy": "2024-01-31T20:41:50.444628Z",
     "iopub.status.idle": "2024-01-31T20:41:50.472070Z",
     "shell.execute_reply": "2024-01-31T20:41:50.471296Z",
     "shell.execute_reply.started": "2024-01-31T20:41:50.444937Z"
    }
   },
   "outputs": [
    {
     "data": {
      "text/plain": [
       "torch.Size([1, 9])"
      ]
     },
     "execution_count": 41,
     "metadata": {},
     "output_type": "execute_result"
    }
   ],
   "source": [
    "prompt_ids = tokenizer.encode(prompt)\n",
    "inp = tensor(prompt_ids)[None].cuda()\n",
    "inp.shape"
   ]
  },
  {
   "cell_type": "code",
   "execution_count": 46,
   "metadata": {
    "execution": {
     "iopub.execute_input": "2024-01-31T20:42:17.033328Z",
     "iopub.status.busy": "2024-01-31T20:42:17.032824Z",
     "iopub.status.idle": "2024-01-31T20:42:17.524618Z",
     "shell.execute_reply": "2024-01-31T20:42:17.523912Z",
     "shell.execute_reply.started": "2024-01-31T20:42:17.033306Z"
    }
   },
   "outputs": [
    {
     "name": "stderr",
     "output_type": "stream",
     "text": [
      "The attention mask and the pad token id were not set. As a consequence, you may observe unexpected behavior. Please pass your input's `attention_mask` to obtain reliable results.\n",
      "Setting `pad_token_id` to `eos_token_id`:50256 for open-end generation.\n"
     ]
    }
   ],
   "source": [
    "preds = learn.model.generate(inp, max_length=70, num_beams=5, temperature=1.5)"
   ]
  },
  {
   "cell_type": "code",
   "execution_count": 47,
   "metadata": {
    "execution": {
     "iopub.execute_input": "2024-01-31T20:42:18.926185Z",
     "iopub.status.busy": "2024-01-31T20:42:18.925652Z",
     "iopub.status.idle": "2024-01-31T20:42:18.930313Z",
     "shell.execute_reply": "2024-01-31T20:42:18.929932Z",
     "shell.execute_reply.started": "2024-01-31T20:42:18.926164Z"
    }
   },
   "outputs": [
    {
     "data": {
      "text/plain": [
       "\"I'm a business professional with 10 years of experience working in the financial services industry. I have a strong background in financial analysis, financial reporting, and financial reporting. I have a strong background in financial analysis, financial reporting, and financial reporting. I have a strong background in financial analysis, financial reporting, and financial reporting. I have a strong background\""
      ]
     },
     "execution_count": 47,
     "metadata": {},
     "output_type": "execute_result"
    }
   ],
   "source": [
    "tokenizer.decode(preds[0].cpu().numpy())"
   ]
  },
  {
   "cell_type": "markdown",
   "metadata": {},
   "source": [
    "It looks awesome!"
   ]
  },
  {
   "cell_type": "code",
   "execution_count": 48,
   "metadata": {
    "execution": {
     "iopub.execute_input": "2024-01-31T20:42:22.894019Z",
     "iopub.status.busy": "2024-01-31T20:42:22.893757Z",
     "iopub.status.idle": "2024-01-31T20:42:23.680816Z",
     "shell.execute_reply": "2024-01-31T20:42:23.680282Z",
     "shell.execute_reply.started": "2024-01-31T20:42:22.894001Z"
    }
   },
   "outputs": [
    {
     "name": "stderr",
     "output_type": "stream",
     "text": [
      "The attention mask and the pad token id were not set. As a consequence, you may observe unexpected behavior. Please pass your input's `attention_mask` to obtain reliable results.\n",
      "Setting `pad_token_id` to `eos_token_id`:50256 for open-end generation.\n"
     ]
    },
    {
     "data": {
      "text/plain": [
       "\"I'm a content creator with a passion for the intersection of technology and the human experience. I'm passionate about the intersection of technology and the human experience. I'm passionate about the intersection of technology and the human experience. I'm passionate about the intersection of technology and the human experience. I'm passionate about the intersection of technology and the human experience. I'm passionate about the intersection of technology and the human experience. I'm passionate about the intersection of technology and the human experience. I'm passionate about\""
      ]
     },
     "execution_count": 48,
     "metadata": {},
     "output_type": "execute_result"
    }
   ],
   "source": [
    "prompt = \"I'm a content creator\"\n",
    "prompt_ids = tokenizer.encode(prompt)\n",
    "inp = tensor(prompt_ids)[None].cuda()\n",
    "inp.shape\n",
    "preds = learn.model.generate(inp, max_length=100, num_beams=5, temperature=1.5)\n",
    "tokenizer.decode(preds[0].cpu().numpy())"
   ]
  },
  {
   "cell_type": "code",
   "execution_count": 49,
   "metadata": {
    "execution": {
     "iopub.execute_input": "2024-01-31T20:42:39.292915Z",
     "iopub.status.busy": "2024-01-31T20:42:39.292644Z",
     "iopub.status.idle": "2024-01-31T20:42:49.814786Z",
     "shell.execute_reply": "2024-01-31T20:42:49.814064Z",
     "shell.execute_reply.started": "2024-01-31T20:42:39.292896Z"
    }
   },
   "outputs": [
    {
     "data": {
      "text/html": [
       "\n",
       "<style>\n",
       "    /* Turns off some styling */\n",
       "    progress {\n",
       "        /* gets rid of default border in Firefox and Opera. */\n",
       "        border: none;\n",
       "        /* Needs to be in here for Safari polyfill so background images work as expected. */\n",
       "        background-size: auto;\n",
       "    }\n",
       "    progress:not([value]), progress:not([value])::-webkit-progress-bar {\n",
       "        background: repeating-linear-gradient(45deg, #7e7e7e, #7e7e7e 10px, #5c5c5c 10px, #5c5c5c 20px);\n",
       "    }\n",
       "    .progress-bar-interrupted, .progress-bar-interrupted::-webkit-progress-bar {\n",
       "        background: #F44336;\n",
       "    }\n",
       "</style>\n"
      ],
      "text/plain": [
       "<IPython.core.display.HTML object>"
      ]
     },
     "metadata": {},
     "output_type": "display_data"
    },
    {
     "data": {
      "text/html": [],
      "text/plain": [
       "<IPython.core.display.HTML object>"
      ]
     },
     "metadata": {},
     "output_type": "display_data"
    },
    {
     "data": {
      "text/plain": [
       "SuggestedLRs(valley=0.0002290867705596611)"
      ]
     },
     "execution_count": 49,
     "metadata": {},
     "output_type": "execute_result"
    },
    {
     "data": {
      "image/png": "[encoded data removed]",
      "text/plain": [
       "<Figure size 640x480 with 1 Axes>"
      ]
     },
     "metadata": {},
     "output_type": "display_data"
    }
   ],
   "source": [
    "learn.lr_find()"
   ]
  },
  {
   "cell_type": "code",
   "execution_count": 50,
   "metadata": {
    "execution": {
     "iopub.execute_input": "2024-01-31T20:43:09.438296Z",
     "iopub.status.busy": "2024-01-31T20:43:09.437448Z",
     "iopub.status.idle": "2024-01-31T20:45:01.802886Z",
     "shell.execute_reply": "2024-01-31T20:45:01.802358Z",
     "shell.execute_reply.started": "2024-01-31T20:43:09.438278Z"
    }
   },
   "outputs": [
    {
     "data": {
      "text/html": [
       "\n",
       "<style>\n",
       "    /* Turns off some styling */\n",
       "    progress {\n",
       "        /* gets rid of default border in Firefox and Opera. */\n",
       "        border: none;\n",
       "        /* Needs to be in here for Safari polyfill so background images work as expected. */\n",
       "        background-size: auto;\n",
       "    }\n",
       "    progress:not([value]), progress:not([value])::-webkit-progress-bar {\n",
       "        background: repeating-linear-gradient(45deg, #7e7e7e, #7e7e7e 10px, #5c5c5c 10px, #5c5c5c 20px);\n",
       "    }\n",
       "    .progress-bar-interrupted, .progress-bar-interrupted::-webkit-progress-bar {\n",
       "        background: #F44336;\n",
       "    }\n",
       "</style>\n"
      ],
      "text/plain": [
       "<IPython.core.display.HTML object>"
      ]
     },
     "metadata": {},
     "output_type": "display_data"
    },
    {
     "data": {
      "text/html": [
       "<table border=\"1\" class=\"dataframe\">\n",
       "  <thead>\n",
       "    <tr style=\"text-align: left;\">\n",
       "      <th>epoch</th>\n",
       "      <th>train_loss</th>\n",
       "      <th>valid_loss</th>\n",
       "      <th>perplexity</th>\n",
       "      <th>time</th>\n",
       "    </tr>\n",
       "  </thead>\n",
       "  <tbody>\n",
       "    <tr>\n",
       "      <td>0</td>\n",
       "      <td>3.496351</td>\n",
       "      <td>3.831819</td>\n",
       "      <td>46.146381</td>\n",
       "      <td>01:52</td>\n",
       "    </tr>\n",
       "  </tbody>\n",
       "</table>"
      ],
      "text/plain": [
       "<IPython.core.display.HTML object>"
      ]
     },
     "metadata": {},
     "output_type": "display_data"
    }
   ],
   "source": [
    "learn.fit_one_cycle(1, 4e-4)"
   ]
  },
  {
   "cell_type": "code",
   "execution_count": 58,
   "metadata": {
    "execution": {
     "iopub.execute_input": "2024-01-31T20:47:08.824968Z",
     "iopub.status.busy": "2024-01-31T20:47:08.824332Z",
     "iopub.status.idle": "2024-01-31T20:47:09.437420Z",
     "shell.execute_reply": "2024-01-31T20:47:09.436961Z",
     "shell.execute_reply.started": "2024-01-31T20:47:08.824945Z"
    }
   },
   "outputs": [
    {
     "name": "stderr",
     "output_type": "stream",
     "text": [
      "The attention mask and the pad token id were not set. As a consequence, you may observe unexpected behavior. Please pass your input's `attention_mask` to obtain reliable results.\n",
      "Setting `pad_token_id` to `eos_token_id`:50256 for open-end generation.\n"
     ]
    },
    {
     "data": {
      "text/plain": [
       "\"I've founded and led a number of startups in the tech space. I'm currently working on a few of them, but I'm looking forward to connecting with people from all walks of life to learn more about what it takes to be a successful entrepreneur.I am a recent graduate from the University of Texas at Dallas with a Bachelors of Science in Computer Science. I\""
      ]
     },
     "execution_count": 58,
     "metadata": {},
     "output_type": "execute_result"
    }
   ],
   "source": [
    "prompt = \"I've founded\"\n",
    "prompt_ids = tokenizer.encode(prompt)\n",
    "inp = tensor(prompt_ids)[None].cuda()\n",
    "inp.shape\n",
    "preds = learn.model.generate(inp, max_length=75, num_beams=10, temperature=1.5)\n",
    "tokenizer.decode(preds[0].cpu().numpy())"
   ]
  },
  {
   "cell_type": "code",
   "execution_count": 71,
   "metadata": {
    "execution": {
     "iopub.execute_input": "2024-01-31T20:50:36.205520Z",
     "iopub.status.busy": "2024-01-31T20:50:36.204665Z",
     "iopub.status.idle": "2024-01-31T20:50:36.595720Z",
     "shell.execute_reply": "2024-01-31T20:50:36.594930Z",
     "shell.execute_reply.started": "2024-01-31T20:50:36.205488Z"
    }
   },
   "outputs": [
    {
     "name": "stderr",
     "output_type": "stream",
     "text": [
      "The attention mask and the pad token id were not set. As a consequence, you may observe unexpected behavior. Please pass your input's `attention_mask` to obtain reliable results.\n",
      "Setting `pad_token_id` to `eos_token_id`:50256 for open-end generation.\n"
     ]
    },
    {
     "data": {
      "text/plain": [
       "'Dedicated Film professional with a demonstrated history of working in the film industry. Skilled in Film Production, Film Editing, Film Production, and Film Production. Strong arts and design professional with a Bachelor of Arts (B.A.) focused in Film'"
      ]
     },
     "execution_count": 71,
     "metadata": {},
     "output_type": "execute_result"
    }
   ],
   "source": [
    "prompt = \"Dedicated Film professional\"\n",
    "prompt_ids = tokenizer.encode(prompt)\n",
    "inp = tensor(prompt_ids)[None].cuda()\n",
    "inp.shape\n",
    "preds = learn.model.generate(inp, max_length=50, num_beams=10, temperature=1.5)\n",
    "tokenizer.decode(preds[0].cpu().numpy())"
   ]
  },
  {
   "cell_type": "markdown",
   "metadata": {},
   "source": [
    "They seem to be working a bit in the beginning but soon fall into repeated words. I think this is the extend of this model. Let's add more data to it to see if we can improve on that"
   ]
  },
  {
   "cell_type": "code",
   "execution_count": 72,
   "metadata": {
    "execution": {
     "iopub.execute_input": "2024-01-31T20:51:19.518298Z",
     "iopub.status.busy": "2024-01-31T20:51:19.517596Z",
     "iopub.status.idle": "2024-01-31T20:51:29.001827Z",
     "shell.execute_reply": "2024-01-31T20:51:29.001252Z",
     "shell.execute_reply.started": "2024-01-31T20:51:19.518268Z"
    }
   },
   "outputs": [
    {
     "data": {
      "text/html": [
       "\n",
       "<style>\n",
       "    /* Turns off some styling */\n",
       "    progress {\n",
       "        /* gets rid of default border in Firefox and Opera. */\n",
       "        border: none;\n",
       "        /* Needs to be in here for Safari polyfill so background images work as expected. */\n",
       "        background-size: auto;\n",
       "    }\n",
       "    progress:not([value]), progress:not([value])::-webkit-progress-bar {\n",
       "        background: repeating-linear-gradient(45deg, #7e7e7e, #7e7e7e 10px, #5c5c5c 10px, #5c5c5c 20px);\n",
       "    }\n",
       "    .progress-bar-interrupted, .progress-bar-interrupted::-webkit-progress-bar {\n",
       "        background: #F44336;\n",
       "    }\n",
       "</style>\n"
      ],
      "text/plain": [
       "<IPython.core.display.HTML object>"
      ]
     },
     "metadata": {},
     "output_type": "display_data"
    },
    {
     "data": {
      "text/html": [],
      "text/plain": [
       "<IPython.core.display.HTML object>"
      ]
     },
     "metadata": {},
     "output_type": "display_data"
    },
    {
     "data": {
      "text/plain": [
       "SuggestedLRs(valley=2.511886486900039e-05)"
      ]
     },
     "execution_count": 72,
     "metadata": {},
     "output_type": "execute_result"
    },
    {
     "data": {
      "image/png": "[encoded data removed]",
      "text/plain": [
       "<Figure size 640x480 with 1 Axes>"
      ]
     },
     "metadata": {},
     "output_type": "display_data"
    }
   ],
   "source": [
    "learn.lr_find()"
   ]
  },
  {
   "cell_type": "code",
   "execution_count": 73,
   "metadata": {
    "execution": {
     "iopub.execute_input": "2024-01-31T20:51:37.157106Z",
     "iopub.status.busy": "2024-01-31T20:51:37.156250Z",
     "iopub.status.idle": "2024-01-31T20:53:30.344214Z",
     "shell.execute_reply": "2024-01-31T20:53:30.343788Z",
     "shell.execute_reply.started": "2024-01-31T20:51:37.157074Z"
    }
   },
   "outputs": [
    {
     "data": {
      "text/html": [
       "\n",
       "<style>\n",
       "    /* Turns off some styling */\n",
       "    progress {\n",
       "        /* gets rid of default border in Firefox and Opera. */\n",
       "        border: none;\n",
       "        /* Needs to be in here for Safari polyfill so background images work as expected. */\n",
       "        background-size: auto;\n",
       "    }\n",
       "    progress:not([value]), progress:not([value])::-webkit-progress-bar {\n",
       "        background: repeating-linear-gradient(45deg, #7e7e7e, #7e7e7e 10px, #5c5c5c 10px, #5c5c5c 20px);\n",
       "    }\n",
       "    .progress-bar-interrupted, .progress-bar-interrupted::-webkit-progress-bar {\n",
       "        background: #F44336;\n",
       "    }\n",
       "</style>\n"
      ],
      "text/plain": [
       "<IPython.core.display.HTML object>"
      ]
     },
     "metadata": {},
     "output_type": "display_data"
    },
    {
     "data": {
      "text/html": [
       "<table border=\"1\" class=\"dataframe\">\n",
       "  <thead>\n",
       "    <tr style=\"text-align: left;\">\n",
       "      <th>epoch</th>\n",
       "      <th>train_loss</th>\n",
       "      <th>valid_loss</th>\n",
       "      <th>perplexity</th>\n",
       "      <th>time</th>\n",
       "    </tr>\n",
       "  </thead>\n",
       "  <tbody>\n",
       "    <tr>\n",
       "      <td>0</td>\n",
       "      <td>3.171449</td>\n",
       "      <td>3.850465</td>\n",
       "      <td>47.014935</td>\n",
       "      <td>01:53</td>\n",
       "    </tr>\n",
       "  </tbody>\n",
       "</table>"
      ],
      "text/plain": [
       "<IPython.core.display.HTML object>"
      ]
     },
     "metadata": {},
     "output_type": "display_data"
    }
   ],
   "source": [
    "learn.fit_one_cycle(1, 5e-5)"
   ]
  },
  {
   "cell_type": "code",
   "execution_count": 75,
   "metadata": {
    "execution": {
     "iopub.execute_input": "2024-01-31T20:54:29.441665Z",
     "iopub.status.busy": "2024-01-31T20:54:29.440825Z",
     "iopub.status.idle": "2024-01-31T20:54:29.832059Z",
     "shell.execute_reply": "2024-01-31T20:54:29.831311Z",
     "shell.execute_reply.started": "2024-01-31T20:54:29.441639Z"
    }
   },
   "outputs": [
    {
     "name": "stderr",
     "output_type": "stream",
     "text": [
      "The attention mask and the pad token id were not set. As a consequence, you may observe unexpected behavior. Please pass your input's `attention_mask` to obtain reliable results.\n",
      "Setting `pad_token_id` to `eos_token_id`:50256 for open-end generation.\n"
     ]
    },
    {
     "data": {
      "text/plain": [
       "'Dedicated Film professional with a demonstrated history of working in the film and television industry. Skilled in Photography, Film Production, Photography, and Videography. Strong arts and design professional with a Bachelor of Arts (B.A.) focused in Film'"
      ]
     },
     "execution_count": 75,
     "metadata": {},
     "output_type": "execute_result"
    }
   ],
   "source": [
    "prompt = \"Dedicated Film professional\"\n",
    "prompt_ids = tokenizer.encode(prompt)\n",
    "inp = tensor(prompt_ids)[None].cuda()\n",
    "inp.shape\n",
    "preds = learn.model.generate(inp, max_length=50, num_beams=10, temperature=1.5)\n",
    "tokenizer.decode(preds[0].cpu().numpy())"
   ]
  },
  {
   "cell_type": "code",
   "execution_count": 76,
   "metadata": {
    "execution": {
     "iopub.execute_input": "2024-01-31T20:55:08.677464Z",
     "iopub.status.busy": "2024-01-31T20:55:08.676806Z",
     "iopub.status.idle": "2024-01-31T20:55:09.096620Z",
     "shell.execute_reply": "2024-01-31T20:55:09.096116Z",
     "shell.execute_reply.started": "2024-01-31T20:55:08.677440Z"
    }
   },
   "outputs": [
    {
     "name": "stderr",
     "output_type": "stream",
     "text": [
      "The attention mask and the pad token id were not set. As a consequence, you may observe unexpected behavior. Please pass your input's `attention_mask` to obtain reliable results.\n",
      "Setting `pad_token_id` to `eos_token_id`:50256 for open-end generation.\n"
     ]
    },
    {
     "data": {
      "text/plain": [
       "'Machine Learning Engineer with a demonstrated history of working in the information technology and services industry. Skilled in Python, Java, C, C++, and JavaScript. Strong information technology professional with a Bachelor of Science (B.S.) focused in Computer Science'"
      ]
     },
     "execution_count": 76,
     "metadata": {},
     "output_type": "execute_result"
    }
   ],
   "source": [
    "prompt = \"Machine Learning Engineer\"\n",
    "prompt_ids = tokenizer.encode(prompt)\n",
    "inp = tensor(prompt_ids)[None].cuda()\n",
    "inp.shape\n",
    "preds = learn.model.generate(inp, max_length=50, num_beams=10, temperature=1.5)\n",
    "tokenizer.decode(preds[0].cpu().numpy())"
   ]
  },
  {
   "cell_type": "code",
   "execution_count": 88,
   "metadata": {
    "execution": {
     "iopub.execute_input": "2024-01-31T20:58:18.599055Z",
     "iopub.status.busy": "2024-01-31T20:58:18.598370Z",
     "iopub.status.idle": "2024-01-31T20:58:19.092208Z",
     "shell.execute_reply": "2024-01-31T20:58:19.091553Z",
     "shell.execute_reply.started": "2024-01-31T20:58:18.599026Z"
    }
   },
   "outputs": [
    {
     "name": "stderr",
     "output_type": "stream",
     "text": [
      "The attention mask and the pad token id were not set. As a consequence, you may observe unexpected behavior. Please pass your input's `attention_mask` to obtain reliable results.\n",
      "Setting `pad_token_id` to `eos_token_id`:50256 for open-end generation.\n"
     ]
    },
    {
     "data": {
      "text/plain": [
       "'Passionate Animator with a demonstrated history of working in the animation industry. Skilled in Sketching, Animation, Animation, and Visual Effects. Strong arts and design professional with a Bachelor of Fine Arts (BFA) focused in Fine Arts and Design from University of California, Irvine.Experienced'"
      ]
     },
     "execution_count": 88,
     "metadata": {},
     "output_type": "execute_result"
    }
   ],
   "source": [
    "prompt = \"Passionate Animator\"\n",
    "prompt_ids = tokenizer.encode(prompt)\n",
    "inp = tensor(prompt_ids)[None].cuda()\n",
    "inp.shape\n",
    "preds = learn.model.generate(inp, max_length=60, num_beams=10, temperature=1.5)\n",
    "tokenizer.decode(preds[0].cpu().numpy())"
   ]
  },
  {
   "cell_type": "code",
   "execution_count": 113,
   "metadata": {
    "execution": {
     "iopub.execute_input": "2024-01-31T21:10:43.145634Z",
     "iopub.status.busy": "2024-01-31T21:10:43.145024Z",
     "iopub.status.idle": "2024-01-31T21:10:43.544122Z",
     "shell.execute_reply": "2024-01-31T21:10:43.543460Z",
     "shell.execute_reply.started": "2024-01-31T21:10:43.145573Z"
    }
   },
   "outputs": [
    {
     "name": "stderr",
     "output_type": "stream",
     "text": [
      "The attention mask and the pad token id were not set. As a consequence, you may observe unexpected behavior. Please pass your input's `attention_mask` to obtain reliable results.\n",
      "Setting `pad_token_id` to `eos_token_id`:50256 for open-end generation.\n"
     ]
    },
    {
     "data": {
      "text/plain": [
       "'Working on degree in Computer Science from Nanyang Technological University (NTU). I am currently working as a Software Engineer at Amazon Web Services (AWS). I am currently working as a Software Engineer at Amazon Web Services (AWS). I'"
      ]
     },
     "execution_count": 113,
     "metadata": {},
     "output_type": "execute_result"
    }
   ],
   "source": [
    "prompt = \"Working on degree\"\n",
    "prompt_ids = tokenizer.encode(prompt)\n",
    "inp = tensor(prompt_ids)[None].cuda()\n",
    "inp.shape\n",
    "preds = learn.model.generate(inp, max_length=50, num_beams=10, temperature=1.5)\n",
    "tokenizer.decode(preds[0].cpu().numpy())"
   ]
  },
  {
   "cell_type": "markdown",
   "metadata": {},
   "source": [
    "Seems to perform well when the length of paragraph is 30 - 60 words. Pretty good!"
   ]
  },
  {
   "cell_type": "code",
   "execution_count": 114,
   "metadata": {
    "execution": {
     "iopub.execute_input": "2024-01-31T21:11:57.984880Z",
     "iopub.status.busy": "2024-01-31T21:11:57.984616Z",
     "iopub.status.idle": "2024-01-31T21:12:07.938541Z",
     "shell.execute_reply": "2024-01-31T21:12:07.938097Z",
     "shell.execute_reply.started": "2024-01-31T21:11:57.984862Z"
    }
   },
   "outputs": [
    {
     "data": {
      "text/html": [
       "\n",
       "<style>\n",
       "    /* Turns off some styling */\n",
       "    progress {\n",
       "        /* gets rid of default border in Firefox and Opera. */\n",
       "        border: none;\n",
       "        /* Needs to be in here for Safari polyfill so background images work as expected. */\n",
       "        background-size: auto;\n",
       "    }\n",
       "    progress:not([value]), progress:not([value])::-webkit-progress-bar {\n",
       "        background: repeating-linear-gradient(45deg, #7e7e7e, #7e7e7e 10px, #5c5c5c 10px, #5c5c5c 20px);\n",
       "    }\n",
       "    .progress-bar-interrupted, .progress-bar-interrupted::-webkit-progress-bar {\n",
       "        background: #F44336;\n",
       "    }\n",
       "</style>\n"
      ],
      "text/plain": [
       "<IPython.core.display.HTML object>"
      ]
     },
     "metadata": {},
     "output_type": "display_data"
    },
    {
     "data": {
      "text/html": [],
      "text/plain": [
       "<IPython.core.display.HTML object>"
      ]
     },
     "metadata": {},
     "output_type": "display_data"
    },
    {
     "data": {
      "text/plain": [
       "SuggestedLRs(valley=3.0199516913853586e-05)"
      ]
     },
     "execution_count": 114,
     "metadata": {},
     "output_type": "execute_result"
    },
    {
     "data": {
      "image/png": "[encoded data removed]",
      "text/plain": [
       "<Figure size 640x480 with 1 Axes>"
      ]
     },
     "metadata": {},
     "output_type": "display_data"
    }
   ],
   "source": [
    "learn.lr_find()z"
   ]
  },
  {
   "cell_type": "code",
   "execution_count": 115,
   "metadata": {
    "execution": {
     "iopub.execute_input": "2024-01-31T21:12:35.564321Z",
     "iopub.status.busy": "2024-01-31T21:12:35.563672Z",
     "iopub.status.idle": "2024-01-31T21:14:33.745142Z",
     "shell.execute_reply": "2024-01-31T21:14:33.744643Z",
     "shell.execute_reply.started": "2024-01-31T21:12:35.564296Z"
    }
   },
   "outputs": [
    {
     "data": {
      "text/html": [
       "\n",
       "<style>\n",
       "    /* Turns off some styling */\n",
       "    progress {\n",
       "        /* gets rid of default border in Firefox and Opera. */\n",
       "        border: none;\n",
       "        /* Needs to be in here for Safari polyfill so background images work as expected. */\n",
       "        background-size: auto;\n",
       "    }\n",
       "    progress:not([value]), progress:not([value])::-webkit-progress-bar {\n",
       "        background: repeating-linear-gradient(45deg, #7e7e7e, #7e7e7e 10px, #5c5c5c 10px, #5c5c5c 20px);\n",
       "    }\n",
       "    .progress-bar-interrupted, .progress-bar-interrupted::-webkit-progress-bar {\n",
       "        background: #F44336;\n",
       "    }\n",
       "</style>\n"
      ],
      "text/plain": [
       "<IPython.core.display.HTML object>"
      ]
     },
     "metadata": {},
     "output_type": "display_data"
    },
    {
     "data": {
      "text/html": [
       "<table border=\"1\" class=\"dataframe\">\n",
       "  <thead>\n",
       "    <tr style=\"text-align: left;\">\n",
       "      <th>epoch</th>\n",
       "      <th>train_loss</th>\n",
       "      <th>valid_loss</th>\n",
       "      <th>perplexity</th>\n",
       "      <th>time</th>\n",
       "    </tr>\n",
       "  </thead>\n",
       "  <tbody>\n",
       "    <tr>\n",
       "      <td>0</td>\n",
       "      <td>3.087823</td>\n",
       "      <td>3.857399</td>\n",
       "      <td>47.342052</td>\n",
       "      <td>01:58</td>\n",
       "    </tr>\n",
       "  </tbody>\n",
       "</table>"
      ],
      "text/plain": [
       "<IPython.core.display.HTML object>"
      ]
     },
     "metadata": {},
     "output_type": "display_data"
    }
   ],
   "source": [
    "learn.fit_one_cycle(1, 1e-5)"
   ]
  },
  {
   "cell_type": "code",
   "execution_count": 66,
   "metadata": {
    "execution": {
     "iopub.execute_input": "2024-01-31T20:49:38.170135Z",
     "iopub.status.busy": "2024-01-31T20:49:38.169572Z",
     "iopub.status.idle": "2024-01-31T20:49:38.178367Z",
     "shell.execute_reply": "2024-01-31T20:49:38.177748Z",
     "shell.execute_reply.started": "2024-01-31T20:49:38.170113Z"
    }
   },
   "outputs": [
    {
     "name": "stdout",
     "output_type": "stream",
     "text": [
      "Dedicated risk management consultant with experience in accounting, finance and client relationship settings.Respected builder and leader within team work, committed, driven and energetic. I have developed skills in financial control & analysis. I strive for new challenges and corporate adventures!\n"
     ]
    }
   ],
   "source": [
    "learn.fit_one_cycle(1, 4e-4)"
   ]
  }
 ],
 "metadata": {
  "kaggle": {
   "accelerator": "none",
   "dataSources": [
    {
     "datasetId": 4373367,
     "sourceId": 7509137,
     "sourceType": "datasetVersion"
    },
    {
     "datasetId": 4378336,
     "sourceId": 7516650,
     "sourceType": "datasetVersion"
    }
   ],
   "dockerImageVersionId": 30646,
   "isGpuEnabled": false,
   "isInternetEnabled": true,
   "language": "python",
   "sourceType": "notebook"
  },
  "kernelspec": {
   "display_name": "Python 3 (ipykernel)",
   "language": "python",
   "name": "python3"
  },
  "language_info": {
   "codemirror_mode": {
    "name": "ipython",
    "version": 3
   },
   "file_extension": ".py",
   "mimetype": "text/x-python",
   "name": "python",
   "nbconvert_exporter": "python",
   "pygments_lexer": "ipython3",
   "version": "3.9.16"
  }
 },
 "nbformat": 4,
 "nbformat_minor": 4
}
